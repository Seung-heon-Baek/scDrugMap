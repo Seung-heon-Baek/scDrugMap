{
  "cells": [
    {
      "cell_type": "markdown",
      "metadata": {
        "id": "view-in-github",
        "colab_type": "text"
      },
      "source": [
        "<a href=\"https://colab.research.google.com/github/Seung-heon-Baek/scDrugMap/blob/main/scDrugMap.ipynb\" target=\"_parent\"><img src=\"https://colab.research.google.com/assets/colab-badge.svg\" alt=\"Open In Colab\"/></a>"
      ]
    },
    {
      "cell_type": "code",
      "execution_count": 1,
      "metadata": {
        "colab": {
          "base_uri": "https://localhost:8080/"
        },
        "id": "0dFzZLLbtwF1",
        "outputId": "32b4515e-ddc5-4827-d4eb-a6ffc6981dfe"
      },
      "outputs": [
        {
          "output_type": "stream",
          "name": "stdout",
          "text": [
            "fatal: destination path 'scDrugMap' already exists and is not an empty directory.\n"
          ]
        }
      ],
      "source": [
        "!git clone https://github.com/QSong-github/scDrugMap.git\n"
      ]
    },
    {
      "cell_type": "code",
      "source": [
        "# scDrugMap 폴더가 content 폴더 하위에 생성되면\n",
        "# /content/scDrugMap/benchmarking_main_FT.py\n",
        "# /content/scDrugMap/dataset_making.py\n",
        "# /content/scDrugMap/load.py\n",
        "# /content/scDrugMap/get_ebd.py\n",
        "# /content/scDrugMap/training_hyperparameter.txt\n",
        "\n",
        "# /content/scDrugMap/lxndt_filter.tar.gz\n",
        "\n",
        "# /content/OS_scRNA_gene_index.19264.tsv\n",
        "# /content/scDrugMap/pretrainmodels\n",
        "\n",
        "# /content/lxndt_filter\n",
        "# /content/lxndt_filter/lxndt_filter/GSE104987_mal_countsMatrix.txt 외 35개\n",
        "\n",
        "# /content/models/models.ckpt\n",
        "\n",
        "# 빈폴더 생성\n",
        "# /content/scDrugMap/scFoundation/labels\n",
        "# /content/scDrugMap/scFoundation/samples"
      ],
      "metadata": {
        "id": "tBXt3ZmGGxEe"
      },
      "execution_count": null,
      "outputs": []
    },
    {
      "cell_type": "code",
      "execution_count": 3,
      "metadata": {
        "colab": {
          "base_uri": "https://localhost:8080/"
        },
        "id": "V36EctZ9tyLo",
        "outputId": "6e64978c-6c10-4bf6-972c-e1b5b8a205da"
      },
      "outputs": [
        {
          "output_type": "stream",
          "name": "stdout",
          "text": [
            "⏬ Downloading https://github.com/jaimergp/miniforge/releases/download/24.11.2-1_colab/Miniforge3-colab-24.11.2-1_colab-Linux-x86_64.sh...\n",
            "📦 Installing...\n",
            "📌 Adjusting configuration...\n",
            "🩹 Patching environment...\n",
            "⏲ Done in 0:00:09\n",
            "🔁 Restarting kernel...\n"
          ]
        }
      ],
      "source": [
        "!pip install -q condacolab\n",
        "import condacolab\n",
        "condacolab.install()\n"
      ]
    },
    {
      "cell_type": "code",
      "execution_count": 2,
      "metadata": {
        "colab": {
          "base_uri": "https://localhost:8080/"
        },
        "id": "O8L3iRJZuxGB",
        "collapsed": true,
        "outputId": "000ffad0-3639-4c9f-e3c7-c385b8cd6de4"
      },
      "outputs": [
        {
          "output_type": "stream",
          "name": "stdout",
          "text": [
            "/bin/bash: line 1: conda: command not found\n"
          ]
        }
      ],
      "source": [
        "!conda env create -f /content/scDrugMap/env.yaml"
      ]
    },
    {
      "cell_type": "code",
      "source": [
        "###\n",
        "# 프로젝트 디렉토리 이동\n",
        "$ cd ./benchmark/\n",
        "\n",
        "# launcher.py 실행\n",
        "!python /content/scDrugMap/launcher.py --model scGPT --mode EBD\n",
        "###\n"
      ],
      "metadata": {
        "id": "938Wc0Mk9muL",
        "outputId": "b67d7b32-f5ee-4ce7-8ab2-bdb0a9f9e680",
        "colab": {
          "base_uri": "https://localhost:8080/"
        }
      },
      "execution_count": null,
      "outputs": [
        {
          "output_type": "stream",
          "name": "stdout",
          "text": [
            "Traceback (most recent call last):\n",
            "  File \"/content/scDrugMap/launcher.py\", line 52, in <module>\n",
            "    main()\n",
            "  File \"/content/scDrugMap/launcher.py\", line 33, in main\n",
            "    os.chdir(work_dir)\n",
            "FileNotFoundError: [Errno 2] No such file or directory: './scGPT-main/scGPT-main/scgpt/tasks'\n"
          ]
        }
      ]
    },
    {
      "cell_type": "code",
      "source": [
        "###\n",
        "# entering the code directory\n",
        "$ cd ./benchmark/scFoundation-main/scFoundation-main/model/\n",
        "# creating dataset\n",
        "$ python dataset_making.py\n",
        "# generating fixed embedding\n",
        "$ python get_ebd.py\n",
        "# train and test by fixed embedding\n",
        "$ python benchmarking_main_EBD.py\n",
        "# train and test by fine-tuning with LORA\n",
        "$ python benchmarking_main_FT.py\n",
        "###"
      ],
      "metadata": {
        "id": "RtNw50I5fMAH"
      },
      "execution_count": null,
      "outputs": []
    },
    {
      "cell_type": "code",
      "source": [
        "from google.colab import files\n",
        "uploaded = files.upload()"
      ],
      "metadata": {
        "colab": {
          "base_uri": "https://localhost:8080/",
          "height": 377
        },
        "collapsed": true,
        "id": "dkOysV2fhKHb",
        "outputId": "e5d3b294-f41e-4e3b-a64c-364e2704cf12"
      },
      "execution_count": null,
      "outputs": [
        {
          "output_type": "display_data",
          "data": {
            "text/plain": [
              "<IPython.core.display.HTML object>"
            ],
            "text/html": [
              "\n",
              "     <input type=\"file\" id=\"files-aba33511-1bf6-4093-864c-8f07cec4e060\" name=\"files[]\" multiple disabled\n",
              "        style=\"border:none\" />\n",
              "     <output id=\"result-aba33511-1bf6-4093-864c-8f07cec4e060\">\n",
              "      Upload widget is only available when the cell has been executed in the\n",
              "      current browser session. Please rerun this cell to enable.\n",
              "      </output>\n",
              "      <script>// Copyright 2017 Google LLC\n",
              "//\n",
              "// Licensed under the Apache License, Version 2.0 (the \"License\");\n",
              "// you may not use this file except in compliance with the License.\n",
              "// You may obtain a copy of the License at\n",
              "//\n",
              "//      http://www.apache.org/licenses/LICENSE-2.0\n",
              "//\n",
              "// Unless required by applicable law or agreed to in writing, software\n",
              "// distributed under the License is distributed on an \"AS IS\" BASIS,\n",
              "// WITHOUT WARRANTIES OR CONDITIONS OF ANY KIND, either express or implied.\n",
              "// See the License for the specific language governing permissions and\n",
              "// limitations under the License.\n",
              "\n",
              "/**\n",
              " * @fileoverview Helpers for google.colab Python module.\n",
              " */\n",
              "(function(scope) {\n",
              "function span(text, styleAttributes = {}) {\n",
              "  const element = document.createElement('span');\n",
              "  element.textContent = text;\n",
              "  for (const key of Object.keys(styleAttributes)) {\n",
              "    element.style[key] = styleAttributes[key];\n",
              "  }\n",
              "  return element;\n",
              "}\n",
              "\n",
              "// Max number of bytes which will be uploaded at a time.\n",
              "const MAX_PAYLOAD_SIZE = 100 * 1024;\n",
              "\n",
              "function _uploadFiles(inputId, outputId) {\n",
              "  const steps = uploadFilesStep(inputId, outputId);\n",
              "  const outputElement = document.getElementById(outputId);\n",
              "  // Cache steps on the outputElement to make it available for the next call\n",
              "  // to uploadFilesContinue from Python.\n",
              "  outputElement.steps = steps;\n",
              "\n",
              "  return _uploadFilesContinue(outputId);\n",
              "}\n",
              "\n",
              "// This is roughly an async generator (not supported in the browser yet),\n",
              "// where there are multiple asynchronous steps and the Python side is going\n",
              "// to poll for completion of each step.\n",
              "// This uses a Promise to block the python side on completion of each step,\n",
              "// then passes the result of the previous step as the input to the next step.\n",
              "function _uploadFilesContinue(outputId) {\n",
              "  const outputElement = document.getElementById(outputId);\n",
              "  const steps = outputElement.steps;\n",
              "\n",
              "  const next = steps.next(outputElement.lastPromiseValue);\n",
              "  return Promise.resolve(next.value.promise).then((value) => {\n",
              "    // Cache the last promise value to make it available to the next\n",
              "    // step of the generator.\n",
              "    outputElement.lastPromiseValue = value;\n",
              "    return next.value.response;\n",
              "  });\n",
              "}\n",
              "\n",
              "/**\n",
              " * Generator function which is called between each async step of the upload\n",
              " * process.\n",
              " * @param {string} inputId Element ID of the input file picker element.\n",
              " * @param {string} outputId Element ID of the output display.\n",
              " * @return {!Iterable<!Object>} Iterable of next steps.\n",
              " */\n",
              "function* uploadFilesStep(inputId, outputId) {\n",
              "  const inputElement = document.getElementById(inputId);\n",
              "  inputElement.disabled = false;\n",
              "\n",
              "  const outputElement = document.getElementById(outputId);\n",
              "  outputElement.innerHTML = '';\n",
              "\n",
              "  const pickedPromise = new Promise((resolve) => {\n",
              "    inputElement.addEventListener('change', (e) => {\n",
              "      resolve(e.target.files);\n",
              "    });\n",
              "  });\n",
              "\n",
              "  const cancel = document.createElement('button');\n",
              "  inputElement.parentElement.appendChild(cancel);\n",
              "  cancel.textContent = 'Cancel upload';\n",
              "  const cancelPromise = new Promise((resolve) => {\n",
              "    cancel.onclick = () => {\n",
              "      resolve(null);\n",
              "    };\n",
              "  });\n",
              "\n",
              "  // Wait for the user to pick the files.\n",
              "  const files = yield {\n",
              "    promise: Promise.race([pickedPromise, cancelPromise]),\n",
              "    response: {\n",
              "      action: 'starting',\n",
              "    }\n",
              "  };\n",
              "\n",
              "  cancel.remove();\n",
              "\n",
              "  // Disable the input element since further picks are not allowed.\n",
              "  inputElement.disabled = true;\n",
              "\n",
              "  if (!files) {\n",
              "    return {\n",
              "      response: {\n",
              "        action: 'complete',\n",
              "      }\n",
              "    };\n",
              "  }\n",
              "\n",
              "  for (const file of files) {\n",
              "    const li = document.createElement('li');\n",
              "    li.append(span(file.name, {fontWeight: 'bold'}));\n",
              "    li.append(span(\n",
              "        `(${file.type || 'n/a'}) - ${file.size} bytes, ` +\n",
              "        `last modified: ${\n",
              "            file.lastModifiedDate ? file.lastModifiedDate.toLocaleDateString() :\n",
              "                                    'n/a'} - `));\n",
              "    const percent = span('0% done');\n",
              "    li.appendChild(percent);\n",
              "\n",
              "    outputElement.appendChild(li);\n",
              "\n",
              "    const fileDataPromise = new Promise((resolve) => {\n",
              "      const reader = new FileReader();\n",
              "      reader.onload = (e) => {\n",
              "        resolve(e.target.result);\n",
              "      };\n",
              "      reader.readAsArrayBuffer(file);\n",
              "    });\n",
              "    // Wait for the data to be ready.\n",
              "    let fileData = yield {\n",
              "      promise: fileDataPromise,\n",
              "      response: {\n",
              "        action: 'continue',\n",
              "      }\n",
              "    };\n",
              "\n",
              "    // Use a chunked sending to avoid message size limits. See b/62115660.\n",
              "    let position = 0;\n",
              "    do {\n",
              "      const length = Math.min(fileData.byteLength - position, MAX_PAYLOAD_SIZE);\n",
              "      const chunk = new Uint8Array(fileData, position, length);\n",
              "      position += length;\n",
              "\n",
              "      const base64 = btoa(String.fromCharCode.apply(null, chunk));\n",
              "      yield {\n",
              "        response: {\n",
              "          action: 'append',\n",
              "          file: file.name,\n",
              "          data: base64,\n",
              "        },\n",
              "      };\n",
              "\n",
              "      let percentDone = fileData.byteLength === 0 ?\n",
              "          100 :\n",
              "          Math.round((position / fileData.byteLength) * 100);\n",
              "      percent.textContent = `${percentDone}% done`;\n",
              "\n",
              "    } while (position < fileData.byteLength);\n",
              "  }\n",
              "\n",
              "  // All done.\n",
              "  yield {\n",
              "    response: {\n",
              "      action: 'complete',\n",
              "    }\n",
              "  };\n",
              "}\n",
              "\n",
              "scope.google = scope.google || {};\n",
              "scope.google.colab = scope.google.colab || {};\n",
              "scope.google.colab._files = {\n",
              "  _uploadFiles,\n",
              "  _uploadFilesContinue,\n",
              "};\n",
              "})(self);\n",
              "</script> "
            ]
          },
          "metadata": {}
        },
        {
          "output_type": "error",
          "ename": "KeyboardInterrupt",
          "evalue": "",
          "traceback": [
            "\u001b[0;31m---------------------------------------------------------------------------\u001b[0m",
            "\u001b[0;31mKeyboardInterrupt\u001b[0m                         Traceback (most recent call last)",
            "\u001b[0;32m<ipython-input-7-2535520808>\u001b[0m in \u001b[0;36m<cell line: 0>\u001b[0;34m()\u001b[0m\n\u001b[1;32m      1\u001b[0m \u001b[0;32mfrom\u001b[0m \u001b[0mgoogle\u001b[0m\u001b[0;34m.\u001b[0m\u001b[0mcolab\u001b[0m \u001b[0;32mimport\u001b[0m \u001b[0mfiles\u001b[0m\u001b[0;34m\u001b[0m\u001b[0;34m\u001b[0m\u001b[0m\n\u001b[0;32m----> 2\u001b[0;31m \u001b[0muploaded\u001b[0m \u001b[0;34m=\u001b[0m \u001b[0mfiles\u001b[0m\u001b[0;34m.\u001b[0m\u001b[0mupload\u001b[0m\u001b[0;34m(\u001b[0m\u001b[0;34m)\u001b[0m\u001b[0;34m\u001b[0m\u001b[0;34m\u001b[0m\u001b[0m\n\u001b[0m",
            "\u001b[0;32m/usr/local/lib/python3.11/dist-packages/google/colab/files.py\u001b[0m in \u001b[0;36mupload\u001b[0;34m(target_dir)\u001b[0m\n\u001b[1;32m     70\u001b[0m   \"\"\"\n\u001b[1;32m     71\u001b[0m \u001b[0;34m\u001b[0m\u001b[0m\n\u001b[0;32m---> 72\u001b[0;31m   \u001b[0muploaded_files\u001b[0m \u001b[0;34m=\u001b[0m \u001b[0m_upload_files\u001b[0m\u001b[0;34m(\u001b[0m\u001b[0mmultiple\u001b[0m\u001b[0;34m=\u001b[0m\u001b[0;32mTrue\u001b[0m\u001b[0;34m)\u001b[0m\u001b[0;34m\u001b[0m\u001b[0;34m\u001b[0m\u001b[0m\n\u001b[0m\u001b[1;32m     73\u001b[0m   \u001b[0;31m# Mapping from original filename to filename as saved locally.\u001b[0m\u001b[0;34m\u001b[0m\u001b[0;34m\u001b[0m\u001b[0m\n\u001b[1;32m     74\u001b[0m   \u001b[0mlocal_filenames\u001b[0m \u001b[0;34m=\u001b[0m \u001b[0mdict\u001b[0m\u001b[0;34m(\u001b[0m\u001b[0;34m)\u001b[0m\u001b[0;34m\u001b[0m\u001b[0;34m\u001b[0m\u001b[0m\n",
            "\u001b[0;32m/usr/local/lib/python3.11/dist-packages/google/colab/files.py\u001b[0m in \u001b[0;36m_upload_files\u001b[0;34m(multiple)\u001b[0m\n\u001b[1;32m    170\u001b[0m \u001b[0;34m\u001b[0m\u001b[0m\n\u001b[1;32m    171\u001b[0m   \u001b[0;32mwhile\u001b[0m \u001b[0mresult\u001b[0m\u001b[0;34m[\u001b[0m\u001b[0;34m'action'\u001b[0m\u001b[0;34m]\u001b[0m \u001b[0;34m!=\u001b[0m \u001b[0;34m'complete'\u001b[0m\u001b[0;34m:\u001b[0m\u001b[0;34m\u001b[0m\u001b[0;34m\u001b[0m\u001b[0m\n\u001b[0;32m--> 172\u001b[0;31m     result = _output.eval_js(\n\u001b[0m\u001b[1;32m    173\u001b[0m         'google.colab._files._uploadFilesContinue(\"{output_id}\")'.format(\n\u001b[1;32m    174\u001b[0m             \u001b[0moutput_id\u001b[0m\u001b[0;34m=\u001b[0m\u001b[0moutput_id\u001b[0m\u001b[0;34m\u001b[0m\u001b[0;34m\u001b[0m\u001b[0m\n",
            "\u001b[0;32m/usr/local/lib/python3.11/dist-packages/google/colab/output/_js.py\u001b[0m in \u001b[0;36meval_js\u001b[0;34m(script, ignore_result, timeout_sec)\u001b[0m\n\u001b[1;32m     38\u001b[0m   \u001b[0;32mif\u001b[0m \u001b[0mignore_result\u001b[0m\u001b[0;34m:\u001b[0m\u001b[0;34m\u001b[0m\u001b[0;34m\u001b[0m\u001b[0m\n\u001b[1;32m     39\u001b[0m     \u001b[0;32mreturn\u001b[0m\u001b[0;34m\u001b[0m\u001b[0;34m\u001b[0m\u001b[0m\n\u001b[0;32m---> 40\u001b[0;31m   \u001b[0;32mreturn\u001b[0m \u001b[0m_message\u001b[0m\u001b[0;34m.\u001b[0m\u001b[0mread_reply_from_input\u001b[0m\u001b[0;34m(\u001b[0m\u001b[0mrequest_id\u001b[0m\u001b[0;34m,\u001b[0m \u001b[0mtimeout_sec\u001b[0m\u001b[0;34m)\u001b[0m\u001b[0;34m\u001b[0m\u001b[0;34m\u001b[0m\u001b[0m\n\u001b[0m\u001b[1;32m     41\u001b[0m \u001b[0;34m\u001b[0m\u001b[0m\n\u001b[1;32m     42\u001b[0m \u001b[0;34m\u001b[0m\u001b[0m\n",
            "\u001b[0;32m/usr/local/lib/python3.11/dist-packages/google/colab/_message.py\u001b[0m in \u001b[0;36mread_reply_from_input\u001b[0;34m(message_id, timeout_sec)\u001b[0m\n\u001b[1;32m     94\u001b[0m     \u001b[0mreply\u001b[0m \u001b[0;34m=\u001b[0m \u001b[0m_read_next_input_message\u001b[0m\u001b[0;34m(\u001b[0m\u001b[0;34m)\u001b[0m\u001b[0;34m\u001b[0m\u001b[0;34m\u001b[0m\u001b[0m\n\u001b[1;32m     95\u001b[0m     \u001b[0;32mif\u001b[0m \u001b[0mreply\u001b[0m \u001b[0;34m==\u001b[0m \u001b[0m_NOT_READY\u001b[0m \u001b[0;32mor\u001b[0m \u001b[0;32mnot\u001b[0m \u001b[0misinstance\u001b[0m\u001b[0;34m(\u001b[0m\u001b[0mreply\u001b[0m\u001b[0;34m,\u001b[0m \u001b[0mdict\u001b[0m\u001b[0;34m)\u001b[0m\u001b[0;34m:\u001b[0m\u001b[0;34m\u001b[0m\u001b[0;34m\u001b[0m\u001b[0m\n\u001b[0;32m---> 96\u001b[0;31m       \u001b[0mtime\u001b[0m\u001b[0;34m.\u001b[0m\u001b[0msleep\u001b[0m\u001b[0;34m(\u001b[0m\u001b[0;36m0.025\u001b[0m\u001b[0;34m)\u001b[0m\u001b[0;34m\u001b[0m\u001b[0;34m\u001b[0m\u001b[0m\n\u001b[0m\u001b[1;32m     97\u001b[0m       \u001b[0;32mcontinue\u001b[0m\u001b[0;34m\u001b[0m\u001b[0;34m\u001b[0m\u001b[0m\n\u001b[1;32m     98\u001b[0m     if (\n",
            "\u001b[0;31mKeyboardInterrupt\u001b[0m: "
          ]
        }
      ]
    },
    {
      "cell_type": "code",
      "source": [
        "###\n",
        "import tarfile\n",
        "\n",
        "# 업로드된 파일 경로\n",
        "file_path = 'scFoundation-main.tar.gz'\n",
        "\n",
        "# tar.gz 파일 압축 풀기\n",
        "with tarfile.open(file_path, 'r:gz') as tar:\n",
        "    tar.extractall(path='./scFoundation-main')\n",
        "\n",
        "print(\"압축 풀기 완료!\")\n",
        "###"
      ],
      "metadata": {
        "id": "5vZB4iSlhWWi"
      },
      "execution_count": null,
      "outputs": []
    },
    {
      "cell_type": "code",
      "source": [
        "import tarfile\n",
        "\n",
        "# 업로드된 파일 경로\n",
        "file_path = '/content/scDrugMap/lxndt_filter.tar.gz'\n",
        "\n",
        "# tar.gz 파일 압축 풀기\n",
        "with tarfile.open(file_path, 'r:gz') as tar:\n",
        "    tar.extractall(path='./lxndt_filter')\n",
        "\n",
        "print(\"압축 풀기 완료!\")"
      ],
      "metadata": {
        "colab": {
          "base_uri": "https://localhost:8080/"
        },
        "id": "xx4x4ABIil41",
        "outputId": "babefd59-ae73-4349-943b-cf76d45df74f"
      },
      "execution_count": null,
      "outputs": [
        {
          "output_type": "stream",
          "name": "stdout",
          "text": [
            "압축 풀기 완료!\n"
          ]
        }
      ]
    },
    {
      "cell_type": "code",
      "source": [
        "###\n",
        "import os\n",
        "\n",
        "# 코드가 위치할 디렉토리로 변경\n",
        "os.chdir('./scFoundation-main/scFoundation-main/model/')\n",
        "###"
      ],
      "metadata": {
        "id": "DXvJm8AKiPw-"
      },
      "execution_count": null,
      "outputs": []
    },
    {
      "cell_type": "code",
      "source": [
        "!pip install numpy"
      ],
      "metadata": {
        "colab": {
          "base_uri": "https://localhost:8080/"
        },
        "id": "Sa6VuWX1oEgD",
        "outputId": "3fea878f-244b-4451-80d6-fbe16657a660"
      },
      "execution_count": null,
      "outputs": [
        {
          "output_type": "stream",
          "name": "stdout",
          "text": [
            "Requirement already satisfied: numpy in /usr/local/lib/python3.11/site-packages (2.3.0)\n"
          ]
        }
      ]
    },
    {
      "cell_type": "code",
      "source": [
        "!pip install pandas"
      ],
      "metadata": {
        "collapsed": true,
        "colab": {
          "base_uri": "https://localhost:8080/",
          "height": 486
        },
        "id": "Xn1iHy_QoNq0",
        "outputId": "ce4c49ef-85b3-4edc-86f9-51cd9b4dcbbe"
      },
      "execution_count": null,
      "outputs": [
        {
          "output_type": "stream",
          "name": "stdout",
          "text": [
            "Collecting pandas\n",
            "  Downloading pandas-2.3.0-cp311-cp311-manylinux_2_17_x86_64.manylinux2014_x86_64.whl.metadata (91 kB)\n",
            "Requirement already satisfied: numpy>=1.23.2 in /usr/local/lib/python3.11/site-packages (from pandas) (2.3.0)\n",
            "Collecting python-dateutil>=2.8.2 (from pandas)\n",
            "  Downloading python_dateutil-2.9.0.post0-py2.py3-none-any.whl.metadata (8.4 kB)\n",
            "Collecting pytz>=2020.1 (from pandas)\n",
            "  Downloading pytz-2025.2-py2.py3-none-any.whl.metadata (22 kB)\n",
            "Collecting tzdata>=2022.7 (from pandas)\n",
            "  Downloading tzdata-2025.2-py2.py3-none-any.whl.metadata (1.4 kB)\n",
            "Collecting six>=1.5 (from python-dateutil>=2.8.2->pandas)\n",
            "  Downloading six-1.17.0-py2.py3-none-any.whl.metadata (1.7 kB)\n",
            "Downloading pandas-2.3.0-cp311-cp311-manylinux_2_17_x86_64.manylinux2014_x86_64.whl (12.4 MB)\n",
            "\u001b[2K   \u001b[90m━━━━━━━━━━━━━━━━━━━━━━━━━━━━━━━━━━━━━━━━\u001b[0m \u001b[32m12.4/12.4 MB\u001b[0m \u001b[31m114.1 MB/s\u001b[0m eta \u001b[36m0:00:00\u001b[0m\n",
            "\u001b[?25hDownloading python_dateutil-2.9.0.post0-py2.py3-none-any.whl (229 kB)\n",
            "Downloading pytz-2025.2-py2.py3-none-any.whl (509 kB)\n",
            "Downloading tzdata-2025.2-py2.py3-none-any.whl (347 kB)\n",
            "Downloading six-1.17.0-py2.py3-none-any.whl (11 kB)\n",
            "Installing collected packages: pytz, tzdata, six, python-dateutil, pandas\n",
            "Successfully installed pandas-2.3.0 python-dateutil-2.9.0.post0 pytz-2025.2 six-1.17.0 tzdata-2025.2\n"
          ]
        },
        {
          "output_type": "display_data",
          "data": {
            "application/vnd.colab-display-data+json": {
              "pip_warning": {
                "packages": [
                  "dateutil",
                  "six"
                ]
              },
              "id": "45d2449781764667be8ba0053b906148"
            }
          },
          "metadata": {}
        }
      ]
    },
    {
      "cell_type": "code",
      "source": [
        "!pip install torch torchvision torchaudio"
      ],
      "metadata": {
        "collapsed": true,
        "colab": {
          "base_uri": "https://localhost:8080/",
          "height": 1000
        },
        "id": "LNkVRMsXobk0",
        "outputId": "f48ac176-292d-4b73-f26f-b6e4aae9f243"
      },
      "execution_count": null,
      "outputs": [
        {
          "output_type": "stream",
          "name": "stdout",
          "text": [
            "Collecting torch\n",
            "  Downloading torch-2.7.1-cp311-cp311-manylinux_2_28_x86_64.whl.metadata (29 kB)\n",
            "Collecting torchvision\n",
            "  Downloading torchvision-0.22.1-cp311-cp311-manylinux_2_28_x86_64.whl.metadata (6.1 kB)\n",
            "Collecting torchaudio\n",
            "  Downloading torchaudio-2.7.1-cp311-cp311-manylinux_2_28_x86_64.whl.metadata (6.6 kB)\n",
            "Collecting filelock (from torch)\n",
            "  Downloading filelock-3.18.0-py3-none-any.whl.metadata (2.9 kB)\n",
            "Collecting typing-extensions>=4.10.0 (from torch)\n",
            "  Downloading typing_extensions-4.14.0-py3-none-any.whl.metadata (3.0 kB)\n",
            "Collecting sympy>=1.13.3 (from torch)\n",
            "  Downloading sympy-1.14.0-py3-none-any.whl.metadata (12 kB)\n",
            "Collecting networkx (from torch)\n",
            "  Downloading networkx-3.5-py3-none-any.whl.metadata (6.3 kB)\n",
            "Collecting jinja2 (from torch)\n",
            "  Downloading jinja2-3.1.6-py3-none-any.whl.metadata (2.9 kB)\n",
            "Collecting fsspec (from torch)\n",
            "  Downloading fsspec-2025.5.1-py3-none-any.whl.metadata (11 kB)\n",
            "Collecting nvidia-cuda-nvrtc-cu12==12.6.77 (from torch)\n",
            "  Downloading nvidia_cuda_nvrtc_cu12-12.6.77-py3-none-manylinux2014_x86_64.whl.metadata (1.5 kB)\n",
            "Collecting nvidia-cuda-runtime-cu12==12.6.77 (from torch)\n",
            "  Downloading nvidia_cuda_runtime_cu12-12.6.77-py3-none-manylinux2014_x86_64.manylinux_2_17_x86_64.whl.metadata (1.5 kB)\n",
            "Collecting nvidia-cuda-cupti-cu12==12.6.80 (from torch)\n",
            "  Downloading nvidia_cuda_cupti_cu12-12.6.80-py3-none-manylinux2014_x86_64.manylinux_2_17_x86_64.whl.metadata (1.6 kB)\n",
            "Collecting nvidia-cudnn-cu12==9.5.1.17 (from torch)\n",
            "  Downloading nvidia_cudnn_cu12-9.5.1.17-py3-none-manylinux_2_28_x86_64.whl.metadata (1.6 kB)\n",
            "Collecting nvidia-cublas-cu12==12.6.4.1 (from torch)\n",
            "  Downloading nvidia_cublas_cu12-12.6.4.1-py3-none-manylinux2014_x86_64.manylinux_2_17_x86_64.whl.metadata (1.5 kB)\n",
            "Collecting nvidia-cufft-cu12==11.3.0.4 (from torch)\n",
            "  Downloading nvidia_cufft_cu12-11.3.0.4-py3-none-manylinux2014_x86_64.manylinux_2_17_x86_64.whl.metadata (1.5 kB)\n",
            "Collecting nvidia-curand-cu12==10.3.7.77 (from torch)\n",
            "  Downloading nvidia_curand_cu12-10.3.7.77-py3-none-manylinux2014_x86_64.manylinux_2_17_x86_64.whl.metadata (1.5 kB)\n",
            "Collecting nvidia-cusolver-cu12==11.7.1.2 (from torch)\n",
            "  Downloading nvidia_cusolver_cu12-11.7.1.2-py3-none-manylinux2014_x86_64.manylinux_2_17_x86_64.whl.metadata (1.6 kB)\n",
            "Collecting nvidia-cusparse-cu12==12.5.4.2 (from torch)\n",
            "  Downloading nvidia_cusparse_cu12-12.5.4.2-py3-none-manylinux2014_x86_64.manylinux_2_17_x86_64.whl.metadata (1.6 kB)\n",
            "Collecting nvidia-cusparselt-cu12==0.6.3 (from torch)\n",
            "  Downloading nvidia_cusparselt_cu12-0.6.3-py3-none-manylinux2014_x86_64.whl.metadata (6.8 kB)\n",
            "Collecting nvidia-nccl-cu12==2.26.2 (from torch)\n",
            "  Downloading nvidia_nccl_cu12-2.26.2-py3-none-manylinux2014_x86_64.manylinux_2_17_x86_64.whl.metadata (2.0 kB)\n",
            "Collecting nvidia-nvtx-cu12==12.6.77 (from torch)\n",
            "  Downloading nvidia_nvtx_cu12-12.6.77-py3-none-manylinux2014_x86_64.manylinux_2_17_x86_64.whl.metadata (1.6 kB)\n",
            "Collecting nvidia-nvjitlink-cu12==12.6.85 (from torch)\n",
            "  Downloading nvidia_nvjitlink_cu12-12.6.85-py3-none-manylinux2010_x86_64.manylinux_2_12_x86_64.whl.metadata (1.5 kB)\n",
            "Collecting nvidia-cufile-cu12==1.11.1.6 (from torch)\n",
            "  Downloading nvidia_cufile_cu12-1.11.1.6-py3-none-manylinux2014_x86_64.manylinux_2_17_x86_64.whl.metadata (1.5 kB)\n",
            "Collecting triton==3.3.1 (from torch)\n",
            "  Downloading triton-3.3.1-cp311-cp311-manylinux_2_27_x86_64.manylinux_2_28_x86_64.whl.metadata (1.5 kB)\n",
            "Requirement already satisfied: setuptools>=40.8.0 in /usr/local/lib/python3.11/site-packages (from triton==3.3.1->torch) (65.6.3)\n",
            "Requirement already satisfied: numpy in /usr/local/lib/python3.11/site-packages (from torchvision) (2.3.0)\n",
            "Collecting pillow!=8.3.*,>=5.3.0 (from torchvision)\n",
            "  Downloading pillow-11.2.1-cp311-cp311-manylinux_2_28_x86_64.whl.metadata (8.9 kB)\n",
            "Collecting mpmath<1.4,>=1.1.0 (from sympy>=1.13.3->torch)\n",
            "  Downloading mpmath-1.3.0-py3-none-any.whl.metadata (8.6 kB)\n",
            "Collecting MarkupSafe>=2.0 (from jinja2->torch)\n",
            "  Downloading MarkupSafe-3.0.2-cp311-cp311-manylinux_2_17_x86_64.manylinux2014_x86_64.whl.metadata (4.0 kB)\n",
            "Downloading torch-2.7.1-cp311-cp311-manylinux_2_28_x86_64.whl (821.2 MB)\n",
            "\u001b[2K   \u001b[90m━━━━━━━━━━━━━━━━━━━━━━━━━━━━━━━━━━━━━━━━\u001b[0m \u001b[32m821.2/821.2 MB\u001b[0m \u001b[31m19.0 MB/s\u001b[0m eta \u001b[36m0:00:00\u001b[0m\n",
            "\u001b[?25hDownloading nvidia_cublas_cu12-12.6.4.1-py3-none-manylinux2014_x86_64.manylinux_2_17_x86_64.whl (393.1 MB)\n",
            "\u001b[2K   \u001b[90m━━━━━━━━━━━━━━━━━━━━━━━━━━━━━━━━━━━━━━━━\u001b[0m \u001b[32m393.1/393.1 MB\u001b[0m \u001b[31m35.2 MB/s\u001b[0m eta \u001b[36m0:00:00\u001b[0m\n",
            "\u001b[?25hDownloading nvidia_cuda_cupti_cu12-12.6.80-py3-none-manylinux2014_x86_64.manylinux_2_17_x86_64.whl (8.9 MB)\n",
            "\u001b[2K   \u001b[90m━━━━━━━━━━━━━━━━━━━━━━━━━━━━━━━━━━━━━━━━\u001b[0m \u001b[32m8.9/8.9 MB\u001b[0m \u001b[31m70.3 MB/s\u001b[0m eta \u001b[36m0:00:00\u001b[0m\n",
            "\u001b[?25hDownloading nvidia_cuda_nvrtc_cu12-12.6.77-py3-none-manylinux2014_x86_64.whl (23.7 MB)\n",
            "\u001b[2K   \u001b[90m━━━━━━━━━━━━━━━━━━━━━━━━━━━━━━━━━━━━━━━━\u001b[0m \u001b[32m23.7/23.7 MB\u001b[0m \u001b[31m69.6 MB/s\u001b[0m eta \u001b[36m0:00:00\u001b[0m\n",
            "\u001b[?25hDownloading nvidia_cuda_runtime_cu12-12.6.77-py3-none-manylinux2014_x86_64.manylinux_2_17_x86_64.whl (897 kB)\n",
            "\u001b[2K   \u001b[90m━━━━━━━━━━━━━━━━━━━━━━━━━━━━━━━━━━━━━━━━\u001b[0m \u001b[32m897.7/897.7 kB\u001b[0m \u001b[31m26.0 MB/s\u001b[0m eta \u001b[36m0:00:00\u001b[0m\n",
            "\u001b[?25hDownloading nvidia_cudnn_cu12-9.5.1.17-py3-none-manylinux_2_28_x86_64.whl (571.0 MB)\n",
            "\u001b[2K   \u001b[90m━━━━━━━━━━━━━━━━━━━━━━━━━━━━━━━━━━━━━━━━\u001b[0m \u001b[32m571.0/571.0 MB\u001b[0m \u001b[31m20.1 MB/s\u001b[0m eta \u001b[36m0:00:00\u001b[0m\n",
            "\u001b[?25hDownloading nvidia_cufft_cu12-11.3.0.4-py3-none-manylinux2014_x86_64.manylinux_2_17_x86_64.whl (200.2 MB)\n",
            "\u001b[2K   \u001b[90m━━━━━━━━━━━━━━━━━━━━━━━━━━━━━━━━━━━━━━━━\u001b[0m \u001b[32m200.2/200.2 MB\u001b[0m \u001b[31m61.6 MB/s\u001b[0m eta \u001b[36m0:00:00\u001b[0m\n",
            "\u001b[?25hDownloading nvidia_cufile_cu12-1.11.1.6-py3-none-manylinux2014_x86_64.manylinux_2_17_x86_64.whl (1.1 MB)\n",
            "\u001b[2K   \u001b[90m━━━━━━━━━━━━━━━━━━━━━━━━━━━━━━━━━━━━━━━━\u001b[0m \u001b[32m1.1/1.1 MB\u001b[0m \u001b[31m49.9 MB/s\u001b[0m eta \u001b[36m0:00:00\u001b[0m\n",
            "\u001b[?25hDownloading nvidia_curand_cu12-10.3.7.77-py3-none-manylinux2014_x86_64.manylinux_2_17_x86_64.whl (56.3 MB)\n",
            "\u001b[2K   \u001b[90m━━━━━━━━━━━━━━━━━━━━━━━━━━━━━━━━━━━━━━━━\u001b[0m \u001b[32m56.3/56.3 MB\u001b[0m \u001b[31m51.8 MB/s\u001b[0m eta \u001b[36m0:00:00\u001b[0m\n",
            "\u001b[?25hDownloading nvidia_cusolver_cu12-11.7.1.2-py3-none-manylinux2014_x86_64.manylinux_2_17_x86_64.whl (158.2 MB)\n",
            "\u001b[2K   \u001b[90m━━━━━━━━━━━━━━━━━━━━━━━━━━━━━━━━━━━━━━━━\u001b[0m \u001b[32m158.2/158.2 MB\u001b[0m \u001b[31m57.4 MB/s\u001b[0m eta \u001b[36m0:00:00\u001b[0m\n",
            "\u001b[?25hDownloading nvidia_cusparse_cu12-12.5.4.2-py3-none-manylinux2014_x86_64.manylinux_2_17_x86_64.whl (216.6 MB)\n",
            "\u001b[2K   \u001b[90m━━━━━━━━━━━━━━━━━━━━━━━━━━━━━━━━━━━━━━━━\u001b[0m \u001b[32m216.6/216.6 MB\u001b[0m \u001b[31m65.6 MB/s\u001b[0m eta \u001b[36m0:00:00\u001b[0m\n",
            "\u001b[?25hDownloading nvidia_cusparselt_cu12-0.6.3-py3-none-manylinux2014_x86_64.whl (156.8 MB)\n",
            "\u001b[2K   \u001b[90m━━━━━━━━━━━━━━━━━━━━━━━━━━━━━━━━━━━━━━━━\u001b[0m \u001b[32m156.8/156.8 MB\u001b[0m \u001b[31m54.2 MB/s\u001b[0m eta \u001b[36m0:00:00\u001b[0m\n",
            "\u001b[?25hDownloading nvidia_nccl_cu12-2.26.2-py3-none-manylinux2014_x86_64.manylinux_2_17_x86_64.whl (201.3 MB)\n",
            "\u001b[2K   \u001b[90m━━━━━━━━━━━━━━━━━━━━━━━━━━━━━━━━━━━━━━━━\u001b[0m \u001b[32m201.3/201.3 MB\u001b[0m \u001b[31m48.5 MB/s\u001b[0m eta \u001b[36m0:00:00\u001b[0m\n",
            "\u001b[?25hDownloading nvidia_nvjitlink_cu12-12.6.85-py3-none-manylinux2010_x86_64.manylinux_2_12_x86_64.whl (19.7 MB)\n",
            "\u001b[2K   \u001b[90m━━━━━━━━━━━━━━━━━━━━━━━━━━━━━━━━━━━━━━━━\u001b[0m \u001b[32m19.7/19.7 MB\u001b[0m \u001b[31m52.8 MB/s\u001b[0m eta \u001b[36m0:00:00\u001b[0m\n",
            "\u001b[?25hDownloading nvidia_nvtx_cu12-12.6.77-py3-none-manylinux2014_x86_64.manylinux_2_17_x86_64.whl (89 kB)\n",
            "Downloading triton-3.3.1-cp311-cp311-manylinux_2_27_x86_64.manylinux_2_28_x86_64.whl (155.7 MB)\n",
            "\u001b[2K   \u001b[90m━━━━━━━━━━━━━━━━━━━━━━━━━━━━━━━━━━━━━━━━\u001b[0m \u001b[32m155.7/155.7 MB\u001b[0m \u001b[31m37.0 MB/s\u001b[0m eta \u001b[36m0:00:00\u001b[0m\n",
            "\u001b[?25hDownloading torchvision-0.22.1-cp311-cp311-manylinux_2_28_x86_64.whl (7.5 MB)\n",
            "\u001b[2K   \u001b[90m━━━━━━━━━━━━━━━━━━━━━━━━━━━━━━━━━━━━━━━━\u001b[0m \u001b[32m7.5/7.5 MB\u001b[0m \u001b[31m60.3 MB/s\u001b[0m eta \u001b[36m0:00:00\u001b[0m\n",
            "\u001b[?25hDownloading torchaudio-2.7.1-cp311-cp311-manylinux_2_28_x86_64.whl (3.5 MB)\n",
            "\u001b[2K   \u001b[90m━━━━━━━━━━━━━━━━━━━━━━━━━━━━━━━━━━━━━━━━\u001b[0m \u001b[32m3.5/3.5 MB\u001b[0m \u001b[31m58.2 MB/s\u001b[0m eta \u001b[36m0:00:00\u001b[0m\n",
            "\u001b[?25hDownloading pillow-11.2.1-cp311-cp311-manylinux_2_28_x86_64.whl (4.6 MB)\n",
            "\u001b[2K   \u001b[90m━━━━━━━━━━━━━━━━━━━━━━━━━━━━━━━━━━━━━━━━\u001b[0m \u001b[32m4.6/4.6 MB\u001b[0m \u001b[31m61.0 MB/s\u001b[0m eta \u001b[36m0:00:00\u001b[0m\n",
            "\u001b[?25hDownloading sympy-1.14.0-py3-none-any.whl (6.3 MB)\n",
            "\u001b[2K   \u001b[90m━━━━━━━━━━━━━━━━━━━━━━━━━━━━━━━━━━━━━━━━\u001b[0m \u001b[32m6.3/6.3 MB\u001b[0m \u001b[31m64.1 MB/s\u001b[0m eta \u001b[36m0:00:00\u001b[0m\n",
            "\u001b[?25hDownloading typing_extensions-4.14.0-py3-none-any.whl (43 kB)\n",
            "Downloading filelock-3.18.0-py3-none-any.whl (16 kB)\n",
            "Downloading fsspec-2025.5.1-py3-none-any.whl (199 kB)\n",
            "Downloading jinja2-3.1.6-py3-none-any.whl (134 kB)\n",
            "Downloading networkx-3.5-py3-none-any.whl (2.0 MB)\n",
            "\u001b[2K   \u001b[90m━━━━━━━━━━━━━━━━━━━━━━━━━━━━━━━━━━━━━━━━\u001b[0m \u001b[32m2.0/2.0 MB\u001b[0m \u001b[31m48.8 MB/s\u001b[0m eta \u001b[36m0:00:00\u001b[0m\n",
            "\u001b[?25hDownloading MarkupSafe-3.0.2-cp311-cp311-manylinux_2_17_x86_64.manylinux2014_x86_64.whl (23 kB)\n",
            "Downloading mpmath-1.3.0-py3-none-any.whl (536 kB)\n",
            "\u001b[2K   \u001b[90m━━━━━━━━━━━━━━━━━━━━━━━━━━━━━━━━━━━━━━━━\u001b[0m \u001b[32m536.2/536.2 kB\u001b[0m \u001b[31m16.3 MB/s\u001b[0m eta \u001b[36m0:00:00\u001b[0m\n",
            "\u001b[?25hInstalling collected packages: nvidia-cusparselt-cu12, mpmath, typing-extensions, triton, sympy, pillow, nvidia-nvtx-cu12, nvidia-nvjitlink-cu12, nvidia-nccl-cu12, nvidia-curand-cu12, nvidia-cufile-cu12, nvidia-cuda-runtime-cu12, nvidia-cuda-nvrtc-cu12, nvidia-cuda-cupti-cu12, nvidia-cublas-cu12, networkx, MarkupSafe, fsspec, filelock, nvidia-cusparse-cu12, nvidia-cufft-cu12, nvidia-cudnn-cu12, jinja2, nvidia-cusolver-cu12, torch, torchvision, torchaudio\n",
            "Successfully installed MarkupSafe-3.0.2 filelock-3.18.0 fsspec-2025.5.1 jinja2-3.1.6 mpmath-1.3.0 networkx-3.5 nvidia-cublas-cu12-12.6.4.1 nvidia-cuda-cupti-cu12-12.6.80 nvidia-cuda-nvrtc-cu12-12.6.77 nvidia-cuda-runtime-cu12-12.6.77 nvidia-cudnn-cu12-9.5.1.17 nvidia-cufft-cu12-11.3.0.4 nvidia-cufile-cu12-1.11.1.6 nvidia-curand-cu12-10.3.7.77 nvidia-cusolver-cu12-11.7.1.2 nvidia-cusparse-cu12-12.5.4.2 nvidia-cusparselt-cu12-0.6.3 nvidia-nccl-cu12-2.26.2 nvidia-nvjitlink-cu12-12.6.85 nvidia-nvtx-cu12-12.6.77 pillow-11.2.1 sympy-1.14.0 torch-2.7.1 torchaudio-2.7.1 torchvision-0.22.1 triton-3.3.1 typing-extensions-4.14.0\n"
          ]
        },
        {
          "output_type": "display_data",
          "data": {
            "application/vnd.colab-display-data+json": {
              "pip_warning": {
                "packages": [
                  "PIL"
                ]
              },
              "id": "79d82d5fa162479aa441c88b1c68aa60"
            }
          },
          "metadata": {}
        }
      ]
    },
    {
      "cell_type": "code",
      "source": [
        "!pip install scipy"
      ],
      "metadata": {
        "collapsed": true,
        "colab": {
          "base_uri": "https://localhost:8080/"
        },
        "id": "7QkmVDHGpgQ-",
        "outputId": "78987751-a12b-4049-9cc1-d7fbe2238bb0"
      },
      "execution_count": null,
      "outputs": [
        {
          "output_type": "stream",
          "name": "stdout",
          "text": [
            "Collecting scipy\n",
            "  Downloading scipy-1.15.3-cp311-cp311-manylinux_2_17_x86_64.manylinux2014_x86_64.whl.metadata (61 kB)\n",
            "Requirement already satisfied: numpy<2.5,>=1.23.5 in /usr/local/lib/python3.11/site-packages (from scipy) (2.3.0)\n",
            "Downloading scipy-1.15.3-cp311-cp311-manylinux_2_17_x86_64.manylinux2014_x86_64.whl (37.7 MB)\n",
            "\u001b[2K   \u001b[90m━━━━━━━━━━━━━━━━━━━━━━━━━━━━━━━━━━━━━━━━\u001b[0m \u001b[32m37.7/37.7 MB\u001b[0m \u001b[31m65.0 MB/s\u001b[0m eta \u001b[36m0:00:00\u001b[0m\n",
            "\u001b[?25hInstalling collected packages: scipy\n",
            "Successfully installed scipy-1.15.3\n"
          ]
        }
      ]
    },
    {
      "cell_type": "code",
      "source": [
        "!pip install scanpy"
      ],
      "metadata": {
        "collapsed": true,
        "colab": {
          "base_uri": "https://localhost:8080/",
          "height": 1000
        },
        "id": "-Yrh10Kypmyx",
        "outputId": "37faf3ff-b8ff-4ef1-f8f1-aebca1fee3e8"
      },
      "execution_count": null,
      "outputs": [
        {
          "output_type": "stream",
          "name": "stdout",
          "text": [
            "Collecting scanpy\n",
            "  Using cached scanpy-1.11.2-py3-none-any.whl.metadata (9.1 kB)\n",
            "Collecting anndata>=0.8 (from scanpy)\n",
            "  Using cached anndata-0.11.4-py3-none-any.whl.metadata (9.3 kB)\n",
            "Collecting h5py>=3.7.0 (from scanpy)\n",
            "  Downloading h5py-3.14.0-cp311-cp311-manylinux_2_17_x86_64.manylinux2014_x86_64.whl.metadata (2.7 kB)\n",
            "Collecting joblib (from scanpy)\n",
            "  Downloading joblib-1.5.1-py3-none-any.whl.metadata (5.6 kB)\n",
            "Collecting legacy-api-wrap>=1.4.1 (from scanpy)\n",
            "  Using cached legacy_api_wrap-1.4.1-py3-none-any.whl.metadata (2.1 kB)\n",
            "Collecting matplotlib>=3.7.5 (from scanpy)\n",
            "  Downloading matplotlib-3.10.3-cp311-cp311-manylinux_2_17_x86_64.manylinux2014_x86_64.whl.metadata (11 kB)\n",
            "Collecting natsort (from scanpy)\n",
            "  Using cached natsort-8.4.0-py3-none-any.whl.metadata (21 kB)\n",
            "Requirement already satisfied: networkx>=2.7.1 in /usr/local/lib/python3.11/site-packages (from scanpy) (3.5)\n",
            "Collecting numba>=0.57.1 (from scanpy)\n",
            "  Downloading numba-0.61.2-cp311-cp311-manylinux2014_x86_64.manylinux_2_17_x86_64.whl.metadata (2.8 kB)\n",
            "Requirement already satisfied: numpy>=1.24.1 in /usr/local/lib/python3.11/site-packages (from scanpy) (2.3.0)\n",
            "Requirement already satisfied: packaging>=21.3 in /usr/local/lib/python3.11/site-packages (from scanpy) (24.2)\n",
            "Requirement already satisfied: pandas>=1.5.3 in /usr/local/lib/python3.11/site-packages (from scanpy) (2.3.0)\n",
            "Collecting patsy!=1.0.0 (from scanpy)\n",
            "  Downloading patsy-1.0.1-py2.py3-none-any.whl.metadata (3.3 kB)\n",
            "Collecting pynndescent>=0.5.13 (from scanpy)\n",
            "  Using cached pynndescent-0.5.13-py3-none-any.whl.metadata (6.8 kB)\n",
            "Collecting scikit-learn>=1.1.3 (from scanpy)\n",
            "  Downloading scikit_learn-1.7.0-cp311-cp311-manylinux_2_17_x86_64.manylinux2014_x86_64.whl.metadata (17 kB)\n",
            "Requirement already satisfied: scipy>=1.8.1 in /usr/local/lib/python3.11/site-packages (from scanpy) (1.15.3)\n",
            "Collecting seaborn>=0.13.2 (from scanpy)\n",
            "  Using cached seaborn-0.13.2-py3-none-any.whl.metadata (5.4 kB)\n",
            "Collecting session-info2 (from scanpy)\n",
            "  Using cached session_info2-0.1.2-py3-none-any.whl.metadata (2.5 kB)\n",
            "Collecting statsmodels>=0.14.4 (from scanpy)\n",
            "  Downloading statsmodels-0.14.4-cp311-cp311-manylinux_2_17_x86_64.manylinux2014_x86_64.whl.metadata (9.2 kB)\n",
            "Requirement already satisfied: tqdm in /usr/local/lib/python3.11/site-packages (from scanpy) (4.67.1)\n",
            "Requirement already satisfied: typing-extensions in /usr/local/lib/python3.11/site-packages (from scanpy) (4.14.0)\n",
            "Collecting umap-learn>=0.5.6 (from scanpy)\n",
            "  Downloading umap_learn-0.5.7-py3-none-any.whl.metadata (21 kB)\n",
            "Collecting array-api-compat!=1.5,>1.4 (from anndata>=0.8->scanpy)\n",
            "  Using cached array_api_compat-1.12.0-py3-none-any.whl.metadata (2.5 kB)\n",
            "Collecting contourpy>=1.0.1 (from matplotlib>=3.7.5->scanpy)\n",
            "  Downloading contourpy-1.3.2-cp311-cp311-manylinux_2_17_x86_64.manylinux2014_x86_64.whl.metadata (5.5 kB)\n",
            "Collecting cycler>=0.10 (from matplotlib>=3.7.5->scanpy)\n",
            "  Using cached cycler-0.12.1-py3-none-any.whl.metadata (3.8 kB)\n",
            "Collecting fonttools>=4.22.0 (from matplotlib>=3.7.5->scanpy)\n",
            "  Downloading fonttools-4.58.4-cp311-cp311-manylinux2014_x86_64.manylinux_2_17_x86_64.whl.metadata (106 kB)\n",
            "Collecting kiwisolver>=1.3.1 (from matplotlib>=3.7.5->scanpy)\n",
            "  Downloading kiwisolver-1.4.8-cp311-cp311-manylinux_2_17_x86_64.manylinux2014_x86_64.whl.metadata (6.2 kB)\n",
            "Requirement already satisfied: pillow>=8 in /usr/local/lib/python3.11/site-packages (from matplotlib>=3.7.5->scanpy) (11.2.1)\n",
            "Collecting pyparsing>=2.3.1 (from matplotlib>=3.7.5->scanpy)\n",
            "  Downloading pyparsing-3.2.3-py3-none-any.whl.metadata (5.0 kB)\n",
            "Requirement already satisfied: python-dateutil>=2.7 in /usr/local/lib/python3.11/site-packages (from matplotlib>=3.7.5->scanpy) (2.9.0.post0)\n",
            "Collecting llvmlite<0.45,>=0.44.0dev0 (from numba>=0.57.1->scanpy)\n",
            "  Downloading llvmlite-0.44.0-cp311-cp311-manylinux_2_17_x86_64.manylinux2014_x86_64.whl.metadata (4.8 kB)\n",
            "Collecting numpy>=1.24.1 (from scanpy)\n",
            "  Downloading numpy-2.2.6-cp311-cp311-manylinux_2_17_x86_64.manylinux2014_x86_64.whl.metadata (62 kB)\n",
            "Requirement already satisfied: pytz>=2020.1 in /usr/local/lib/python3.11/site-packages (from pandas>=1.5.3->scanpy) (2025.2)\n",
            "Requirement already satisfied: tzdata>=2022.7 in /usr/local/lib/python3.11/site-packages (from pandas>=1.5.3->scanpy) (2025.2)\n",
            "Collecting threadpoolctl>=3.1.0 (from scikit-learn>=1.1.3->scanpy)\n",
            "  Downloading threadpoolctl-3.6.0-py3-none-any.whl.metadata (13 kB)\n",
            "Requirement already satisfied: six>=1.5 in /usr/local/lib/python3.11/site-packages (from python-dateutil>=2.7->matplotlib>=3.7.5->scanpy) (1.17.0)\n",
            "Using cached scanpy-1.11.2-py3-none-any.whl (2.1 MB)\n",
            "Using cached anndata-0.11.4-py3-none-any.whl (144 kB)\n",
            "Downloading h5py-3.14.0-cp311-cp311-manylinux_2_17_x86_64.manylinux2014_x86_64.whl (4.5 MB)\n",
            "\u001b[2K   \u001b[90m━━━━━━━━━━━━━━━━━━━━━━━━━━━━━━━━━━━━━━━━\u001b[0m \u001b[32m4.5/4.5 MB\u001b[0m \u001b[31m84.6 MB/s\u001b[0m eta \u001b[36m0:00:00\u001b[0m\n",
            "\u001b[?25hUsing cached legacy_api_wrap-1.4.1-py3-none-any.whl (10.0 kB)\n",
            "Downloading matplotlib-3.10.3-cp311-cp311-manylinux_2_17_x86_64.manylinux2014_x86_64.whl (8.6 MB)\n",
            "\u001b[2K   \u001b[90m━━━━━━━━━━━━━━━━━━━━━━━━━━━━━━━━━━━━━━━━\u001b[0m \u001b[32m8.6/8.6 MB\u001b[0m \u001b[31m125.5 MB/s\u001b[0m eta \u001b[36m0:00:00\u001b[0m\n",
            "\u001b[?25hDownloading numba-0.61.2-cp311-cp311-manylinux2014_x86_64.manylinux_2_17_x86_64.whl (3.8 MB)\n",
            "\u001b[2K   \u001b[90m━━━━━━━━━━━━━━━━━━━━━━━━━━━━━━━━━━━━━━━━\u001b[0m \u001b[32m3.8/3.8 MB\u001b[0m \u001b[31m100.6 MB/s\u001b[0m eta \u001b[36m0:00:00\u001b[0m\n",
            "\u001b[?25hDownloading numpy-2.2.6-cp311-cp311-manylinux_2_17_x86_64.manylinux2014_x86_64.whl (16.8 MB)\n",
            "\u001b[2K   \u001b[90m━━━━━━━━━━━━━━━━━━━━━━━━━━━━━━━━━━━━━━━━\u001b[0m \u001b[32m16.8/16.8 MB\u001b[0m \u001b[31m149.3 MB/s\u001b[0m eta \u001b[36m0:00:00\u001b[0m\n",
            "\u001b[?25hDownloading patsy-1.0.1-py2.py3-none-any.whl (232 kB)\n",
            "Downloading pynndescent-0.5.13-py3-none-any.whl (56 kB)\n",
            "Downloading joblib-1.5.1-py3-none-any.whl (307 kB)\n",
            "Downloading scikit_learn-1.7.0-cp311-cp311-manylinux_2_17_x86_64.manylinux2014_x86_64.whl (12.9 MB)\n",
            "\u001b[2K   \u001b[90m━━━━━━━━━━━━━━━━━━━━━━━━━━━━━━━━━━━━━━━━\u001b[0m \u001b[32m12.9/12.9 MB\u001b[0m \u001b[31m128.3 MB/s\u001b[0m eta \u001b[36m0:00:00\u001b[0m\n",
            "\u001b[?25hDownloading seaborn-0.13.2-py3-none-any.whl (294 kB)\n",
            "Downloading statsmodels-0.14.4-cp311-cp311-manylinux_2_17_x86_64.manylinux2014_x86_64.whl (10.8 MB)\n",
            "\u001b[2K   \u001b[90m━━━━━━━━━━━━━━━━━━━━━━━━━━━━━━━━━━━━━━━━\u001b[0m \u001b[32m10.8/10.8 MB\u001b[0m \u001b[31m29.7 MB/s\u001b[0m eta \u001b[36m0:00:00\u001b[0m\n",
            "\u001b[?25hDownloading umap_learn-0.5.7-py3-none-any.whl (88 kB)\n",
            "Downloading natsort-8.4.0-py3-none-any.whl (38 kB)\n",
            "Using cached session_info2-0.1.2-py3-none-any.whl (14 kB)\n",
            "Using cached array_api_compat-1.12.0-py3-none-any.whl (58 kB)\n",
            "Downloading contourpy-1.3.2-cp311-cp311-manylinux_2_17_x86_64.manylinux2014_x86_64.whl (326 kB)\n",
            "Downloading cycler-0.12.1-py3-none-any.whl (8.3 kB)\n",
            "Downloading fonttools-4.58.4-cp311-cp311-manylinux2014_x86_64.manylinux_2_17_x86_64.whl (5.0 MB)\n",
            "\u001b[2K   \u001b[90m━━━━━━━━━━━━━━━━━━━━━━━━━━━━━━━━━━━━━━━━\u001b[0m \u001b[32m5.0/5.0 MB\u001b[0m \u001b[31m119.3 MB/s\u001b[0m eta \u001b[36m0:00:00\u001b[0m\n",
            "\u001b[?25hDownloading kiwisolver-1.4.8-cp311-cp311-manylinux_2_17_x86_64.manylinux2014_x86_64.whl (1.4 MB)\n",
            "\u001b[2K   \u001b[90m━━━━━━━━━━━━━━━━━━━━━━━━━━━━━━━━━━━━━━━━\u001b[0m \u001b[32m1.4/1.4 MB\u001b[0m \u001b[31m79.9 MB/s\u001b[0m eta \u001b[36m0:00:00\u001b[0m\n",
            "\u001b[?25hDownloading llvmlite-0.44.0-cp311-cp311-manylinux_2_17_x86_64.manylinux2014_x86_64.whl (42.4 MB)\n",
            "\u001b[2K   \u001b[90m━━━━━━━━━━━━━━━━━━━━━━━━━━━━━━━━━━━━━━━━\u001b[0m \u001b[32m42.4/42.4 MB\u001b[0m \u001b[31m66.4 MB/s\u001b[0m eta \u001b[36m0:00:00\u001b[0m\n",
            "\u001b[?25hDownloading pyparsing-3.2.3-py3-none-any.whl (111 kB)\n",
            "Downloading threadpoolctl-3.6.0-py3-none-any.whl (18 kB)\n",
            "Installing collected packages: threadpoolctl, session-info2, pyparsing, numpy, natsort, llvmlite, legacy-api-wrap, kiwisolver, joblib, fonttools, cycler, array-api-compat, patsy, numba, h5py, contourpy, statsmodels, scikit-learn, matplotlib, anndata, seaborn, pynndescent, umap-learn, scanpy\n",
            "  Attempting uninstall: numpy\n",
            "    Found existing installation: numpy 2.3.0\n",
            "    Uninstalling numpy-2.3.0:\n",
            "      Successfully uninstalled numpy-2.3.0\n",
            "Successfully installed anndata-0.11.4 array-api-compat-1.12.0 contourpy-1.3.2 cycler-0.12.1 fonttools-4.58.4 h5py-3.14.0 joblib-1.5.1 kiwisolver-1.4.8 legacy-api-wrap-1.4.1 llvmlite-0.44.0 matplotlib-3.10.3 natsort-8.4.0 numba-0.61.2 numpy-2.2.6 patsy-1.0.1 pynndescent-0.5.13 pyparsing-3.2.3 scanpy-1.11.2 scikit-learn-1.7.0 seaborn-0.13.2 session-info2-0.1.2 statsmodels-0.14.4 threadpoolctl-3.6.0 umap-learn-0.5.7\n"
          ]
        },
        {
          "output_type": "display_data",
          "data": {
            "application/vnd.colab-display-data+json": {
              "pip_warning": {
                "packages": [
                  "cycler",
                  "kiwisolver",
                  "matplotlib",
                  "mpl_toolkits",
                  "numpy",
                  "pyparsing"
                ]
              },
              "id": "98334b76dc59459d8bbc19a265cdf683"
            }
          },
          "metadata": {}
        }
      ]
    },
    {
      "cell_type": "code",
      "source": [
        "import matplotlib\n",
        "matplotlib.use('Agg')  # 'Agg' 백엔드 설정\n",
        "import scanpy as sc\n"
      ],
      "metadata": {
        "id": "bC1yMrWqqFf0"
      },
      "execution_count": null,
      "outputs": []
    },
    {
      "cell_type": "code",
      "source": [
        "!pip install einops"
      ],
      "metadata": {
        "colab": {
          "base_uri": "https://localhost:8080/"
        },
        "id": "RLvGJ-yOrpmg",
        "outputId": "cc4935a9-0fa0-4859-8547-55ccc14a7ac2"
      },
      "execution_count": null,
      "outputs": [
        {
          "output_type": "stream",
          "name": "stdout",
          "text": [
            "Collecting einops\n",
            "  Downloading einops-0.8.1-py3-none-any.whl.metadata (13 kB)\n",
            "Downloading einops-0.8.1-py3-none-any.whl (64 kB)\n",
            "Installing collected packages: einops\n",
            "Successfully installed einops-0.8.1\n"
          ]
        }
      ]
    },
    {
      "cell_type": "code",
      "source": [
        "!python /content/scDrugMap/dataset_making.py"
      ],
      "metadata": {
        "colab": {
          "base_uri": "https://localhost:8080/"
        },
        "id": "NhKmwALxiUIz",
        "outputId": "8fd56b19-93ab-4479-8df7-cb21f93854d1"
      },
      "execution_count": null,
      "outputs": [
        {
          "output_type": "stream",
          "name": "stdout",
          "text": [
            "Index(['RP11-34P13.7', 'FO538757.2', 'AP006222.2', 'RP4-669L17.10',\n",
            "       'RP11-206L10.9', 'FAM87B', 'LINC00115', 'FAM41C', 'RP11-54O7.1',\n",
            "       'SAMD11',\n",
            "       ...\n",
            "       'MT-CYB', 'BX004987.4', 'AC145212.4', 'AC145212.2', 'AC011043.1',\n",
            "       'AL592183.1', 'AC007325.4', 'AL354822.1', 'AC004556.1', 'AC240274.1'],\n",
            "      dtype='object', length=19105)\n",
            "(11343, 19105)\n",
            "covert gene feature into 19264\n",
            "                                    A1BG  A1CF  A2M  ...  ZYX  ZZEF1  ZZZ3\n",
            "Cell_barcode                                         ...                  \n",
            "AAACCTGAGACCTTTG-scRNA-seq_CLL6_d0   0.0   0.0  0.0  ...  0.0    0.0   0.0\n",
            "AAACCTGAGCCGTCGT-scRNA-seq_CLL6_d0   0.0   0.0  0.0  ...  0.0    0.0   0.0\n",
            "AAACCTGCAAACAACA-scRNA-seq_CLL6_d0   0.0   0.0  0.0  ...  0.0    0.0   0.0\n",
            "AAACGGGCAAATCCGT-scRNA-seq_CLL6_d0   2.0   0.0  0.0  ...  0.0    0.0   0.0\n",
            "AAACGGGGTCTAGCGC-scRNA-seq_CLL6_d0   0.0   0.0  0.0  ...  0.0    0.0   0.0\n",
            "...                                  ...   ...  ...  ...  ...    ...   ...\n",
            "TTTGTCAGTTGACGTT-scRNA-seq_CLL5_d0   0.0   0.0  0.0  ...  0.0    0.0   0.0\n",
            "TTTGTCATCCCGGATG-scRNA-seq_CLL5_d0   0.0   0.0  0.0  ...  0.0    0.0   0.0\n",
            "TTTGTCATCCGAATGT-scRNA-seq_CLL5_d0   1.0   0.0  0.0  ...  0.0    0.0   0.0\n",
            "TTTGTCATCCTCGCAT-scRNA-seq_CLL5_d0   0.0   0.0  0.0  ...  0.0    0.0   0.0\n",
            "TTTGTCATCGCATGAT-scRNA-seq_CLL5_d0   1.0   0.0  0.0  ...  0.0    0.0   0.0\n",
            "\n",
            "[11343 rows x 19264 columns]\n",
            "(11343, 19264)\n",
            "{'mask_gene_name': False, 'gene_num': 19266, 'seq_len': 19266, 'encoder': {'hidden_dim': 768, 'depth': 12, 'heads': 12, 'dim_head': 64, 'seq_len': 19266, 'module_type': 'transformer', 'norm_first': False}, 'decoder': {'hidden_dim': 512, 'depth': 6, 'heads': 8, 'dim_head': 64, 'module_type': 'performer', 'seq_len': 19266, 'norm_first': False}, 'n_class': 104, 'pad_token_id': 103, 'mask_token_id': 102, 'bin_num': 100, 'bin_alpha': 1.0, 'rawcount': True, 'model': 'mae_autobin', 'test_valid_train_idx_dict': '/nfs_beijing/minsheng/data/os10000w-new/global_shuffle/meta.csv.train_set_idx_dict.pt', 'valid_data_path': '/nfs_beijing/minsheng/data/valid_count_10w.npz', 'num_tokens': 13, 'train_data_path': None, 'isPanA': False, 'isPlanA1': False, 'max_files_to_load': 5, 'bin_type': 'auto_bin', 'value_mask_prob': 0.3, 'zero_mask_prob': 0.03, 'replace_prob': 0.8, 'random_token_prob': 0.1, 'mask_ignore_token_ids': [0], 'decoder_add_zero': True, 'mae_encoder_max_seq_len': 15000, 'isPlanA': False, 'mask_prob': 0.3, 'model_type': 'mae_autobin', 'pos_embed': False, 'device': 'cuda'}\n",
            "100% 11343/11343 [02:54<00:00, 65.16it/s]\n",
            "savedGSE111014_mal_pre_countsMatrix.txt\n",
            "Index(['FAM41C', 'NOC2L', 'ISG15', 'SDF4', 'UBE2J2', 'ACAP3', 'INTS11',\n",
            "       'AURKAIP1', 'CCNL2', 'MRPL20',\n",
            "       ...\n",
            "       'LINC00348', 'AL512310.10', 'AL139354.1', 'AC093515.1', 'AC023824.3',\n",
            "       'AC087742.1', 'LINC01028', 'LINC01977', 'MIMT1', 'LINC02575'],\n",
            "      dtype='object', length=23902)\n",
            "(1892, 23902)\n",
            "covert gene feature into 19264\n",
            "                             A1BG  A1CF  A2M  A2ML1  ...  ZYG11B  ZYX  ZZEF1  ZZZ3\n",
            "Cell_barcode                                         ...                          \n",
            "GSM4914661_AAAGATGCACGTCAGC   0.0   0.0  0.0    0.0  ...     0.0  0.0    0.0   0.0\n",
            "GSM4914661_AAAGCAAAGATAGTCA   4.0   0.0  0.0    0.0  ...     0.0  0.0    0.0   0.0\n",
            "GSM4914661_AAAGCAAGTAGGCTGA   4.0   0.0  0.0    0.0  ...     0.0  0.0    1.0   0.0\n",
            "GSM4914661_AAATGCCCATGGTCTA   3.0   0.0  0.0    0.0  ...     0.0  0.0    0.0   0.0\n",
            "GSM4914661_AACTCAGAGTGACTCT   1.0   0.0  0.0    0.0  ...     0.0  0.0    1.0   0.0\n",
            "...                           ...   ...  ...    ...  ...     ...  ...    ...   ...\n",
            "GSM4914707_GCTGCGATCACTCCTG   0.0   0.0  0.0    0.0  ...     0.0  0.0    0.0   0.0\n",
            "GSM4914707_GTATCTTCAAGGGTCA   0.0   0.0  0.0    0.0  ...     0.0  0.0    0.0   0.0\n",
            "GSM4914707_GTTCTCGCAGCGTTCG   0.0   0.0  0.0    0.0  ...     0.0  0.0    0.0   0.0\n",
            "GSM4914707_TAAGTGCCATGTTCCC   0.0   0.0  0.0    0.0  ...     0.0  0.0    0.0   0.0\n",
            "GSM4914707_TGAGCATCAAGGTTCT   0.0   0.0  0.0    0.0  ...     0.0  0.0    0.0   0.0\n",
            "\n",
            "[1892 rows x 19264 columns]\n",
            "(1892, 19264)\n",
            "{'mask_gene_name': False, 'gene_num': 19266, 'seq_len': 19266, 'encoder': {'hidden_dim': 768, 'depth': 12, 'heads': 12, 'dim_head': 64, 'seq_len': 19266, 'module_type': 'transformer', 'norm_first': False}, 'decoder': {'hidden_dim': 512, 'depth': 6, 'heads': 8, 'dim_head': 64, 'module_type': 'performer', 'seq_len': 19266, 'norm_first': False}, 'n_class': 104, 'pad_token_id': 103, 'mask_token_id': 102, 'bin_num': 100, 'bin_alpha': 1.0, 'rawcount': True, 'model': 'mae_autobin', 'test_valid_train_idx_dict': '/nfs_beijing/minsheng/data/os10000w-new/global_shuffle/meta.csv.train_set_idx_dict.pt', 'valid_data_path': '/nfs_beijing/minsheng/data/valid_count_10w.npz', 'num_tokens': 13, 'train_data_path': None, 'isPanA': False, 'isPlanA1': False, 'max_files_to_load': 5, 'bin_type': 'auto_bin', 'value_mask_prob': 0.3, 'zero_mask_prob': 0.03, 'replace_prob': 0.8, 'random_token_prob': 0.1, 'mask_ignore_token_ids': [0], 'decoder_add_zero': True, 'mae_encoder_max_seq_len': 15000, 'isPlanA': False, 'mask_prob': 0.3, 'model_type': 'mae_autobin', 'pos_embed': False, 'device': 'cuda'}\n",
            "100% 1892/1892 [00:29<00:00, 63.76it/s]\n",
            "savedGSE161801_PI_mal_post_countsMatrix.txt\n",
            "Index(['RP11-34P13.7', 'AP006222.2', 'RP4-669L17.10', 'RP11-206L10.3',\n",
            "       'RP11-206L10.2', 'RP11-206L10.9', 'FAM87B', 'LINC00115', 'FAM41C',\n",
            "       'RP11-54O7.1',\n",
            "       ...\n",
            "       'MT-ND6', 'MT-CYB', 'AC145212.1', 'AL356585.1', 'AC011043.1',\n",
            "       'AL592183.1', 'AL354822.1', 'KIR2DL2', 'PNRC2.1', 'SRSF10.1'],\n",
            "      dtype='object', length=18955)\n",
            "(1704, 18955)\n",
            "covert gene feature into 19264\n",
            "                    A1BG  A1CF  A2M  A2ML1  ...  ZYG11B  ZYX  ZZEF1  ZZZ3\n",
            "Cell_barcode                                ...                          \n",
            "AAACCTGTCTGGCGTG.1   1.0   0.0  0.0    0.0  ...     0.0  4.0    2.0   0.0\n",
            "AAACCTGTCTTTCCTC.1   3.0   0.0  0.0    0.0  ...     0.0  1.0    0.0   0.0\n",
            "AAAGCAAAGGCTAGGT.1   0.0   0.0  0.0    0.0  ...     0.0  0.0    0.0   0.0\n",
            "AAAGCAACAGTGACAG.1   0.0   0.0  0.0    0.0  ...     0.0  3.0    0.0   0.0\n",
            "AAAGTAGCAGGGCATA.1   0.0   0.0  0.0    0.0  ...     1.0  3.0    0.0   0.0\n",
            "...                  ...   ...  ...    ...  ...     ...  ...    ...   ...\n",
            "TTTGGTTAGGACAGAA.5   0.0   0.0  0.0    0.0  ...     0.0  0.0    1.0   0.0\n",
            "TTTGGTTCACGTCTCT.5   3.0   0.0  0.0    0.0  ...     0.0  3.0    0.0   0.0\n",
            "TTTGGTTGTTCGAATC.5   0.0   0.0  0.0    0.0  ...     0.0  0.0    0.0   0.0\n",
            "TTTGTCACAAGTAATG.5   0.0   0.0  0.0    0.0  ...     3.0  1.0    0.0   0.0\n",
            "TTTGTCAGTAAGAGGA.5   0.0   0.0  0.0    0.0  ...     0.0  1.0    0.0   0.0\n",
            "\n",
            "[1704 rows x 19264 columns]\n",
            "(1704, 19264)\n",
            "{'mask_gene_name': False, 'gene_num': 19266, 'seq_len': 19266, 'encoder': {'hidden_dim': 768, 'depth': 12, 'heads': 12, 'dim_head': 64, 'seq_len': 19266, 'module_type': 'transformer', 'norm_first': False}, 'decoder': {'hidden_dim': 512, 'depth': 6, 'heads': 8, 'dim_head': 64, 'module_type': 'performer', 'seq_len': 19266, 'norm_first': False}, 'n_class': 104, 'pad_token_id': 103, 'mask_token_id': 102, 'bin_num': 100, 'bin_alpha': 1.0, 'rawcount': True, 'model': 'mae_autobin', 'test_valid_train_idx_dict': '/nfs_beijing/minsheng/data/os10000w-new/global_shuffle/meta.csv.train_set_idx_dict.pt', 'valid_data_path': '/nfs_beijing/minsheng/data/valid_count_10w.npz', 'num_tokens': 13, 'train_data_path': None, 'isPanA': False, 'isPlanA1': False, 'max_files_to_load': 5, 'bin_type': 'auto_bin', 'value_mask_prob': 0.3, 'zero_mask_prob': 0.03, 'replace_prob': 0.8, 'random_token_prob': 0.1, 'mask_ignore_token_ids': [0], 'decoder_add_zero': True, 'mae_encoder_max_seq_len': 15000, 'isPlanA': False, 'mask_prob': 0.3, 'model_type': 'mae_autobin', 'pos_embed': False, 'device': 'cuda'}\n",
            "100% 1704/1704 [00:26<00:00, 63.46it/s]\n",
            "savedGSE131984_JQ1Pac_mal_countsMatrix.txt\n",
            "Index(['RP11-34P13.7', 'AP006222.2', 'RP4-669L17.10', 'RP11-206L10.3',\n",
            "       'RP11-206L10.2', 'RP11-206L10.9', 'FAM87B', 'LINC00115', 'FAM41C',\n",
            "       'RP11-54O7.1',\n",
            "       ...\n",
            "       'MT-ND6', 'MT-CYB', 'AC145212.1', 'AL356585.1', 'AC011043.1',\n",
            "       'AL592183.1', 'AL354822.1', 'KIR2DL2', 'PNRC2.1', 'SRSF10.1'],\n",
            "      dtype='object', length=18955)\n",
            "(1754, 18955)\n",
            "covert gene feature into 19264\n",
            "                    A1BG  A1CF  A2M  A2ML1  ...  ZYG11B  ZYX  ZZEF1  ZZZ3\n",
            "Cell_barcode                                ...                          \n",
            "AAACCTGTCTGGCGTG.1   1.0   0.0  0.0    0.0  ...     0.0  4.0    2.0   0.0\n",
            "AAACCTGTCTTTCCTC.1   3.0   0.0  0.0    0.0  ...     0.0  1.0    0.0   0.0\n",
            "AAAGCAAAGGCTAGGT.1   0.0   0.0  0.0    0.0  ...     0.0  0.0    0.0   0.0\n",
            "AAAGCAACAGTGACAG.1   0.0   0.0  0.0    0.0  ...     0.0  3.0    0.0   0.0\n",
            "AAAGTAGCAGGGCATA.1   0.0   0.0  0.0    0.0  ...     1.0  3.0    0.0   0.0\n",
            "...                  ...   ...  ...    ...  ...     ...  ...    ...   ...\n",
            "TTTATGCAGAGCTATA.6   1.0   0.0  0.0    0.0  ...     0.0  2.0    1.0   0.0\n",
            "TTTATGCGTTCTGTTT.6   2.0   0.0  0.0    0.0  ...     1.0  3.0    0.0   0.0\n",
            "TTTGGTTCAGGGATTG.6   1.0   0.0  0.0    0.0  ...     0.0  1.0    0.0   0.0\n",
            "TTTGGTTTCCGCTGTT.6   0.0   0.0  0.0    0.0  ...     0.0  1.0    0.0   0.0\n",
            "TTTGTCAAGACAGAGA.6   1.0   0.0  0.0    0.0  ...     0.0  1.0    0.0   1.0\n",
            "\n",
            "[1754 rows x 19264 columns]\n",
            "(1754, 19264)\n",
            "{'mask_gene_name': False, 'gene_num': 19266, 'seq_len': 19266, 'encoder': {'hidden_dim': 768, 'depth': 12, 'heads': 12, 'dim_head': 64, 'seq_len': 19266, 'module_type': 'transformer', 'norm_first': False}, 'decoder': {'hidden_dim': 512, 'depth': 6, 'heads': 8, 'dim_head': 64, 'module_type': 'performer', 'seq_len': 19266, 'norm_first': False}, 'n_class': 104, 'pad_token_id': 103, 'mask_token_id': 102, 'bin_num': 100, 'bin_alpha': 1.0, 'rawcount': True, 'model': 'mae_autobin', 'test_valid_train_idx_dict': '/nfs_beijing/minsheng/data/os10000w-new/global_shuffle/meta.csv.train_set_idx_dict.pt', 'valid_data_path': '/nfs_beijing/minsheng/data/valid_count_10w.npz', 'num_tokens': 13, 'train_data_path': None, 'isPanA': False, 'isPlanA1': False, 'max_files_to_load': 5, 'bin_type': 'auto_bin', 'value_mask_prob': 0.3, 'zero_mask_prob': 0.03, 'replace_prob': 0.8, 'random_token_prob': 0.1, 'mask_ignore_token_ids': [0], 'decoder_add_zero': True, 'mae_encoder_max_seq_len': 15000, 'isPlanA': False, 'mask_prob': 0.3, 'model_type': 'mae_autobin', 'pos_embed': False, 'device': 'cuda'}\n",
            "100% 1754/1754 [00:28<00:00, 61.23it/s]\n",
            "savedGSE131984_Pal_mal_countsMatrix.txt\n",
            "Index(['RP11-34P13.7', 'AP006222.2', 'RP4-669L17.10', 'RP11-206L10.3',\n",
            "       'RP11-206L10.2', 'RP11-206L10.9', 'FAM87B', 'LINC00115', 'FAM41C',\n",
            "       'RP11-54O7.1',\n",
            "       ...\n",
            "       'CTA-223H9.9', 'AL022476.2', 'SULT4A1', 'FBLN1', 'LINC00898',\n",
            "       'CTA-299D3.8', 'MRAP', 'TMPRSS3', 'FTCD', 'AP001468.58'],\n",
            "      dtype='object', length=19164)\n",
            "(6548, 19164)\n",
            "covert gene feature into 19264\n",
            "                               A1BG  A1CF  A2M  ...   ZYX  ZZEF1  ZZZ3\n",
            "Cell_barcode                                    ...                   \n",
            "GSM2897333_AAACCTGCAAACTGTC-1   1.0   0.0  0.0  ...   3.0    1.0   3.0\n",
            "GSM2897333_AAACCTGCAGCGTCCA-1   0.0   0.0  1.0  ...   8.0    0.0   2.0\n",
            "GSM2897333_AAACCTGCATATGAGA-1   0.0   0.0  0.0  ...   2.0    2.0   3.0\n",
            "GSM2897333_AAACCTGTCCGCAAGC-1   0.0   0.0  0.0  ...   0.0    1.0   1.0\n",
            "GSM2897333_AAACCTGTCCTCAATT-1   4.0   0.0  0.0  ...   8.0    1.0   3.0\n",
            "...                             ...   ...  ...  ...   ...    ...   ...\n",
            "GSM2897334_TTTGTCATCAGCTTAG-1   2.0   0.0  1.0  ...  16.0    0.0   4.0\n",
            "GSM2897334_TTTGTCATCCCTAATT-1   6.0   0.0  0.0  ...   1.0    0.0   1.0\n",
            "GSM2897334_TTTGTCATCCGTACAA-1   0.0   0.0  0.0  ...   5.0    0.0   1.0\n",
            "GSM2897334_TTTGTCATCGTTTGCC-1   1.0   0.0  0.0  ...   1.0    0.0   1.0\n",
            "GSM2897334_TTTGTCATCTGCGACG-1   4.0   0.0  1.0  ...   1.0    0.0   2.0\n",
            "\n",
            "[6548 rows x 19264 columns]\n",
            "(6548, 19264)\n",
            "{'mask_gene_name': False, 'gene_num': 19266, 'seq_len': 19266, 'encoder': {'hidden_dim': 768, 'depth': 12, 'heads': 12, 'dim_head': 64, 'seq_len': 19266, 'module_type': 'transformer', 'norm_first': False}, 'decoder': {'hidden_dim': 512, 'depth': 6, 'heads': 8, 'dim_head': 64, 'module_type': 'performer', 'seq_len': 19266, 'norm_first': False}, 'n_class': 104, 'pad_token_id': 103, 'mask_token_id': 102, 'bin_num': 100, 'bin_alpha': 1.0, 'rawcount': True, 'model': 'mae_autobin', 'test_valid_train_idx_dict': '/nfs_beijing/minsheng/data/os10000w-new/global_shuffle/meta.csv.train_set_idx_dict.pt', 'valid_data_path': '/nfs_beijing/minsheng/data/valid_count_10w.npz', 'num_tokens': 13, 'train_data_path': None, 'isPanA': False, 'isPlanA1': False, 'max_files_to_load': 5, 'bin_type': 'auto_bin', 'value_mask_prob': 0.3, 'zero_mask_prob': 0.03, 'replace_prob': 0.8, 'random_token_prob': 0.1, 'mask_ignore_token_ids': [0], 'decoder_add_zero': True, 'mae_encoder_max_seq_len': 15000, 'isPlanA': False, 'mask_prob': 0.3, 'model_type': 'mae_autobin', 'pos_embed': False, 'device': 'cuda'}\n",
            "100% 6548/6548 [01:44<00:00, 62.51it/s]\n",
            "savedGSE108397_mal_countsMatrix.txt\n",
            "Index(['RP11-34P13.7', 'FO538757.2', 'AP006222.2', 'RP4-669L17.10',\n",
            "       'RP11-206L10.9', 'LINC00115', 'FAM41C', 'RP11-54O7.1', 'SAMD11',\n",
            "       'NOC2L',\n",
            "       ...\n",
            "       'LL22NC03-75H12.2', 'CITF22-49E9.3', 'RP3-402G11.28', 'SYCE3',\n",
            "       'bP-2189O9.3', 'AP000146.2', 'AP000223.42', 'HSF2BP', 'LRRC3',\n",
            "       'AL133493.2'],\n",
            "      dtype='object', length=15965)\n",
            "(8763, 15965)\n",
            "covert gene feature into 19264\n",
            "                                 A1BG  A1CF  A2M  ...  ZYX  ZZEF1  ZZZ3\n",
            "Cell_barcode                                      ...                  \n",
            "CLL_CPT1_M0_AAACCTGCAATGGACG-1    0.0   0.0  0.0  ...  0.0    0.0   0.0\n",
            "CLL_CPT1_M0_AAACCTGCACGAAACG-1    0.0   0.0  0.0  ...  0.0    0.0   0.0\n",
            "CLL_CPT1_M0_AAACCTGCACGCTTTC-1    0.0   0.0  0.0  ...  0.0    0.0   0.0\n",
            "CLL_CPT1_M0_AAACCTGGTGTTTGTG-1    0.0   0.0  0.0  ...  0.0    0.0   0.0\n",
            "CLL_CPT1_M0_AAACCTGTCACCACCT-1    0.0   0.0  0.0  ...  0.0    0.0   0.0\n",
            "...                               ...   ...  ...  ...  ...    ...   ...\n",
            "CLL_CPT1_M27_TTTGTCAGTAGCCTAT-1   0.0   0.0  0.0  ...  0.0    0.0   0.0\n",
            "CLL_CPT1_M27_TTTGTCAGTAGGGTAC-1   0.0   0.0  0.0  ...  0.0    0.0   0.0\n",
            "CLL_CPT1_M27_TTTGTCAGTCAAGCGA-1   1.0   0.0  0.0  ...  0.0    0.0   0.0\n",
            "CLL_CPT1_M27_TTTGTCATCACGATGT-1   1.0   0.0  0.0  ...  0.0    0.0   0.0\n",
            "CLL_CPT1_M27_TTTGTCATCGCCTGAG-1   0.0   0.0  0.0  ...  0.0    0.0   0.0\n",
            "\n",
            "[8763 rows x 19264 columns]\n",
            "(8763, 19264)\n",
            "{'mask_gene_name': False, 'gene_num': 19266, 'seq_len': 19266, 'encoder': {'hidden_dim': 768, 'depth': 12, 'heads': 12, 'dim_head': 64, 'seq_len': 19266, 'module_type': 'transformer', 'norm_first': False}, 'decoder': {'hidden_dim': 512, 'depth': 6, 'heads': 8, 'dim_head': 64, 'module_type': 'performer', 'seq_len': 19266, 'norm_first': False}, 'n_class': 104, 'pad_token_id': 103, 'mask_token_id': 102, 'bin_num': 100, 'bin_alpha': 1.0, 'rawcount': True, 'model': 'mae_autobin', 'test_valid_train_idx_dict': '/nfs_beijing/minsheng/data/os10000w-new/global_shuffle/meta.csv.train_set_idx_dict.pt', 'valid_data_path': '/nfs_beijing/minsheng/data/valid_count_10w.npz', 'num_tokens': 13, 'train_data_path': None, 'isPanA': False, 'isPlanA1': False, 'max_files_to_load': 5, 'bin_type': 'auto_bin', 'value_mask_prob': 0.3, 'zero_mask_prob': 0.03, 'replace_prob': 0.8, 'random_token_prob': 0.1, 'mask_ignore_token_ids': [0], 'decoder_add_zero': True, 'mae_encoder_max_seq_len': 15000, 'isPlanA': False, 'mask_prob': 0.3, 'model_type': 'mae_autobin', 'pos_embed': False, 'device': 'cuda'}\n",
            "100% 8763/8763 [02:17<00:00, 63.54it/s]\n",
            "savedGSE152469_mal_countsMatrix.txt\n",
            "Index(['WASH9P', 'LINC01409', 'LINC00115', 'FAM41C', 'LINC02593', 'SAMD11',\n",
            "       'NOC2L', 'KLHL17', 'PLEKHN1', 'PERM1',\n",
            "       ...\n",
            "       'MOV10L1', 'MAPK8IP2', 'LINC01695', 'GRIK1-AS1', 'KRTAP19-3',\n",
            "       'KRTAP19-4', 'KRTAP20-3', 'KRTAP7-1', 'PLAC4', 'ZNF295-AS1'],\n",
            "      dtype='object', length=17290)\n",
            "(11008, 17290)\n",
            "covert gene feature into 19264\n",
            "                               A1BG  A1CF  A2M  A2ML1  ...  ZYG11B  ZYX  ZZEF1  ZZZ3\n",
            "Cell_barcode                                           ...                          \n",
            "GSM5022595_AAACCTGAGAAGAAGC.1   1.0   0.0  0.0    0.0  ...     0.0  1.0    0.0   0.0\n",
            "GSM5022595_AAACCTGAGTGTTGAA.1   0.0   0.0  0.0    0.0  ...     0.0  0.0    0.0   1.0\n",
            "GSM5022595_AAACCTGCAACGATCT.1   1.0   0.0  0.0    0.0  ...     0.0  1.0    0.0   0.0\n",
            "GSM5022595_AAACCTGCAGGCGATA.1   0.0   0.0  0.0    0.0  ...     1.0  0.0    0.0   0.0\n",
            "GSM5022595_AAACCTGCAGTCCTTC.1   0.0   0.0  0.0    0.0  ...     0.0  1.0    0.0   1.0\n",
            "...                             ...   ...  ...    ...  ...     ...  ...    ...   ...\n",
            "GSM5022596_TTTGTCAGTCGGCTCA.1   0.0   0.0  0.0    0.0  ...     0.0  0.0    0.0   0.0\n",
            "GSM5022596_TTTGTCAGTGGTCTCG.1   0.0   0.0  0.0    0.0  ...     0.0  1.0    0.0   1.0\n",
            "GSM5022596_TTTGTCATCCAAATGC.1   1.0   0.0  0.0    0.0  ...     0.0  0.0    0.0   0.0\n",
            "GSM5022596_TTTGTCATCCAGGGCT.1   0.0   0.0  0.0    0.0  ...     0.0  0.0    1.0   0.0\n",
            "GSM5022596_TTTGTCATCTTGGGTA.1   0.0   0.0  0.0    0.0  ...     0.0  0.0    0.0   0.0\n",
            "\n",
            "[11008 rows x 19264 columns]\n",
            "(11008, 19264)\n",
            "{'mask_gene_name': False, 'gene_num': 19266, 'seq_len': 19266, 'encoder': {'hidden_dim': 768, 'depth': 12, 'heads': 12, 'dim_head': 64, 'seq_len': 19266, 'module_type': 'transformer', 'norm_first': False}, 'decoder': {'hidden_dim': 512, 'depth': 6, 'heads': 8, 'dim_head': 64, 'module_type': 'performer', 'seq_len': 19266, 'norm_first': False}, 'n_class': 104, 'pad_token_id': 103, 'mask_token_id': 102, 'bin_num': 100, 'bin_alpha': 1.0, 'rawcount': True, 'model': 'mae_autobin', 'test_valid_train_idx_dict': '/nfs_beijing/minsheng/data/os10000w-new/global_shuffle/meta.csv.train_set_idx_dict.pt', 'valid_data_path': '/nfs_beijing/minsheng/data/valid_count_10w.npz', 'num_tokens': 13, 'train_data_path': None, 'isPanA': False, 'isPlanA1': False, 'max_files_to_load': 5, 'bin_type': 'auto_bin', 'value_mask_prob': 0.3, 'zero_mask_prob': 0.03, 'replace_prob': 0.8, 'random_token_prob': 0.1, 'mask_ignore_token_ids': [0], 'decoder_add_zero': True, 'mae_encoder_max_seq_len': 15000, 'isPlanA': False, 'mask_prob': 0.3, 'model_type': 'mae_autobin', 'pos_embed': False, 'device': 'cuda'}\n",
            "100% 11008/11008 [02:54<00:00, 62.91it/s]\n",
            "savedGSE164897_Vem_mal_countsMatrix.txt\n",
            "Index(['RP11-34P13.7', 'AP006222.2', 'RP4-669L17.10', 'RP11-206L10.3',\n",
            "       'RP11-206L10.2', 'RP11-206L10.9', 'FAM87B', 'LINC00115', 'FAM41C',\n",
            "       'RP11-54O7.1',\n",
            "       ...\n",
            "       'MT-ND6', 'MT-CYB', 'AC145212.1', 'AL356585.1', 'AC011043.1',\n",
            "       'AL592183.1', 'AL354822.1', 'KIR2DL2', 'PNRC2.1', 'SRSF10.1'],\n",
            "      dtype='object', length=18955)\n",
            "(2626, 18955)\n",
            "covert gene feature into 19264\n",
            "                    A1BG  A1CF  A2M  A2ML1  ...  ZYG11B  ZYX  ZZEF1  ZZZ3\n",
            "Cell_barcode                                ...                          \n",
            "AAACCTGTCTGGCGTG.1   1.0   0.0  0.0    0.0  ...     0.0  4.0    2.0   0.0\n",
            "AAACCTGTCTTTCCTC.1   3.0   0.0  0.0    0.0  ...     0.0  1.0    0.0   0.0\n",
            "AAAGCAAAGGCTAGGT.1   0.0   0.0  0.0    0.0  ...     0.0  0.0    0.0   0.0\n",
            "AAAGCAACAGTGACAG.1   0.0   0.0  0.0    0.0  ...     0.0  3.0    0.0   0.0\n",
            "AAAGTAGCAGGGCATA.1   0.0   0.0  0.0    0.0  ...     1.0  3.0    0.0   0.0\n",
            "...                  ...   ...  ...    ...  ...     ...  ...    ...   ...\n",
            "TTTCCTCGTCATACTG.7   1.0   0.0  0.0    0.0  ...     2.0  2.0    0.0   1.0\n",
            "TTTCCTCTCATTTGGG.7   0.0   0.0  0.0    0.0  ...     1.0  2.0    0.0   0.0\n",
            "TTTGCGCCATCATCCC.7   0.0   0.0  0.0    0.0  ...     0.0  0.0    0.0   0.0\n",
            "TTTGGTTCATTCACTT.7   0.0   0.0  0.0    0.0  ...     0.0  0.0    0.0   1.0\n",
            "TTTGTCAAGAAGAAGC.7   0.0   0.0  0.0    0.0  ...     1.0  2.0    1.0   0.0\n",
            "\n",
            "[2626 rows x 19264 columns]\n",
            "(2626, 19264)\n",
            "{'mask_gene_name': False, 'gene_num': 19266, 'seq_len': 19266, 'encoder': {'hidden_dim': 768, 'depth': 12, 'heads': 12, 'dim_head': 64, 'seq_len': 19266, 'module_type': 'transformer', 'norm_first': False}, 'decoder': {'hidden_dim': 512, 'depth': 6, 'heads': 8, 'dim_head': 64, 'module_type': 'performer', 'seq_len': 19266, 'norm_first': False}, 'n_class': 104, 'pad_token_id': 103, 'mask_token_id': 102, 'bin_num': 100, 'bin_alpha': 1.0, 'rawcount': True, 'model': 'mae_autobin', 'test_valid_train_idx_dict': '/nfs_beijing/minsheng/data/os10000w-new/global_shuffle/meta.csv.train_set_idx_dict.pt', 'valid_data_path': '/nfs_beijing/minsheng/data/valid_count_10w.npz', 'num_tokens': 13, 'train_data_path': None, 'isPanA': False, 'isPlanA1': False, 'max_files_to_load': 5, 'bin_type': 'auto_bin', 'value_mask_prob': 0.3, 'zero_mask_prob': 0.03, 'replace_prob': 0.8, 'random_token_prob': 0.1, 'mask_ignore_token_ids': [0], 'decoder_add_zero': True, 'mae_encoder_max_seq_len': 15000, 'isPlanA': False, 'mask_prob': 0.3, 'model_type': 'mae_autobin', 'pos_embed': False, 'device': 'cuda'}\n",
            "100% 2626/2626 [00:42<00:00, 62.51it/s]\n",
            "savedGSE131984_JQ1_mal_countsMatrix.txt\n",
            "Index(['RP11-34P13.7', 'FO538757.2', 'AP006222.2', 'RP4-669L17.10',\n",
            "       'RP11-206L10.9', 'FAM87B', 'LINC00115', 'FAM41C', 'RP11-54O7.1',\n",
            "       'SAMD11',\n",
            "       ...\n",
            "       'MT-CYB', 'BX004987.4', 'AC145212.4', 'AC145212.2', 'AC011043.1',\n",
            "       'AL592183.1', 'AC007325.4', 'AL354822.1', 'AC004556.1', 'AC240274.1'],\n",
            "      dtype='object', length=19105)\n",
            "(3551, 19105)\n",
            "covert gene feature into 19264\n",
            "                                      A1BG  A1CF  A2M  ...  ZYX  ZZEF1  ZZZ3\n",
            "Cell_barcode                                           ...                  \n",
            "AAACCTGCACAGACAG-scRNA-seq_CLL6_d120   0.0   0.0  0.0  ...  1.0    0.0   0.0\n",
            "AAACCTGGTTCCACTC-scRNA-seq_CLL6_d120   0.0   0.0  0.0  ...  0.0    0.0   0.0\n",
            "AAACGGGAGGCGACAT-scRNA-seq_CLL6_d120   0.0   0.0  0.0  ...  0.0    0.0   0.0\n",
            "AAACGGGAGGGTGTTG-scRNA-seq_CLL6_d120   0.0   0.0  0.0  ...  0.0    0.0   0.0\n",
            "AAACGGGGTCGACTGC-scRNA-seq_CLL6_d120   0.0   0.0  0.0  ...  0.0    0.0   0.0\n",
            "...                                    ...   ...  ...  ...  ...    ...   ...\n",
            "TTTGGTTAGAGACTAT-scRNA-seq_CLL5_d150   0.0   0.0  0.0  ...  0.0    0.0   0.0\n",
            "TTTGGTTAGCTTCGCG-scRNA-seq_CLL5_d150   0.0   0.0  0.0  ...  0.0    0.0   0.0\n",
            "TTTGGTTCATCGATTG-scRNA-seq_CLL5_d150   0.0   0.0  0.0  ...  0.0    0.0   0.0\n",
            "TTTGGTTGTGTCAATC-scRNA-seq_CLL5_d150   0.0   0.0  0.0  ...  0.0    0.0   0.0\n",
            "TTTGTCAAGAGAACAG-scRNA-seq_CLL5_d150   0.0   0.0  0.0  ...  0.0    0.0   0.0\n",
            "\n",
            "[3551 rows x 19264 columns]\n",
            "(3551, 19264)\n",
            "{'mask_gene_name': False, 'gene_num': 19266, 'seq_len': 19266, 'encoder': {'hidden_dim': 768, 'depth': 12, 'heads': 12, 'dim_head': 64, 'seq_len': 19266, 'module_type': 'transformer', 'norm_first': False}, 'decoder': {'hidden_dim': 512, 'depth': 6, 'heads': 8, 'dim_head': 64, 'module_type': 'performer', 'seq_len': 19266, 'norm_first': False}, 'n_class': 104, 'pad_token_id': 103, 'mask_token_id': 102, 'bin_num': 100, 'bin_alpha': 1.0, 'rawcount': True, 'model': 'mae_autobin', 'test_valid_train_idx_dict': '/nfs_beijing/minsheng/data/os10000w-new/global_shuffle/meta.csv.train_set_idx_dict.pt', 'valid_data_path': '/nfs_beijing/minsheng/data/valid_count_10w.npz', 'num_tokens': 13, 'train_data_path': None, 'isPanA': False, 'isPlanA1': False, 'max_files_to_load': 5, 'bin_type': 'auto_bin', 'value_mask_prob': 0.3, 'zero_mask_prob': 0.03, 'replace_prob': 0.8, 'random_token_prob': 0.1, 'mask_ignore_token_ids': [0], 'decoder_add_zero': True, 'mae_encoder_max_seq_len': 15000, 'isPlanA': False, 'mask_prob': 0.3, 'model_type': 'mae_autobin', 'pos_embed': False, 'device': 'cuda'}\n",
            "100% 3551/3551 [00:56<00:00, 62.96it/s]\n",
            "savedGSE111014_mal_post_countsMatrix.txt\n",
            "Index(['A1BG', 'A1BG-AS1', 'A1CF', 'A2M', 'A2M-AS1', 'A2ML1', 'A4GALT', 'AAAS',\n",
            "       'AACS', 'AADAC',\n",
            "       ...\n",
            "       'ZW10', 'ZWILCH', 'ZWINT', 'ZXDA', 'ZXDB', 'ZXDC', 'ZYG11A', 'ZYG11B',\n",
            "       'ZYX', 'ZZEF1'],\n",
            "      dtype='object', length=24292)\n",
            "(1142, 24292)\n",
            "covert gene feature into 19264\n",
            "                    A1BG  A1CF  A2M  A2ML1  ...  ZYG11B  ZYX  ZZEF1  ZZZ3\n",
            "Cell_barcode                                ...                          \n",
            "BD_immune07_255916   0.0   0.0  0.0    0.0  ...     0.0  1.0    0.0   0.0\n",
            "BD_immune02_255160   0.0   0.0  0.0    0.0  ...     0.0  1.0    0.0   0.0\n",
            "BD_immune02_403670   0.0   0.0  0.0    0.0  ...     2.0  1.0    0.0   0.0\n",
            "BD_immune02_458665   0.0   0.0  0.0    0.0  ...     0.0  0.0    0.0   0.0\n",
            "BD_immune02_63353    0.0   0.0  0.0    0.0  ...     0.0  2.0    0.0   0.0\n",
            "...                  ...   ...  ...    ...  ...     ...  ...    ...   ...\n",
            "BD_immune07_265467   0.0   0.0  0.0    0.0  ...     0.0  0.0    0.0   0.0\n",
            "BD_immune07_879616   0.0   0.0  0.0    0.0  ...     0.0  0.0    0.0   0.0\n",
            "BD_immune07_340598   0.0   0.0  0.0    0.0  ...     0.0  0.0    0.0   0.0\n",
            "BD_immune07_846282   0.0   0.0  0.0    1.0  ...     0.0  0.0    0.0   0.0\n",
            "BD_immune07_412305   0.0   0.0  1.0    0.0  ...     0.0  1.0    0.0   0.0\n",
            "\n",
            "[1142 rows x 19264 columns]\n",
            "(1142, 19264)\n",
            "{'mask_gene_name': False, 'gene_num': 19266, 'seq_len': 19266, 'encoder': {'hidden_dim': 768, 'depth': 12, 'heads': 12, 'dim_head': 64, 'seq_len': 19266, 'module_type': 'transformer', 'norm_first': False}, 'decoder': {'hidden_dim': 512, 'depth': 6, 'heads': 8, 'dim_head': 64, 'module_type': 'performer', 'seq_len': 19266, 'norm_first': False}, 'n_class': 104, 'pad_token_id': 103, 'mask_token_id': 102, 'bin_num': 100, 'bin_alpha': 1.0, 'rawcount': True, 'model': 'mae_autobin', 'test_valid_train_idx_dict': '/nfs_beijing/minsheng/data/os10000w-new/global_shuffle/meta.csv.train_set_idx_dict.pt', 'valid_data_path': '/nfs_beijing/minsheng/data/valid_count_10w.npz', 'num_tokens': 13, 'train_data_path': None, 'isPanA': False, 'isPlanA1': False, 'max_files_to_load': 5, 'bin_type': 'auto_bin', 'value_mask_prob': 0.3, 'zero_mask_prob': 0.03, 'replace_prob': 0.8, 'random_token_prob': 0.1, 'mask_ignore_token_ids': [0], 'decoder_add_zero': True, 'mae_encoder_max_seq_len': 15000, 'isPlanA': False, 'mask_prob': 0.3, 'model_type': 'mae_autobin', 'pos_embed': False, 'device': 'cuda'}\n",
            "100% 1142/1142 [00:17<00:00, 64.73it/s]\n",
            "savedGSE207422_Tor_mal_post_countsMatrix.txt\n",
            "Index(['AL627309.1', 'AL669831.5', 'FAM87B', 'LINC00115', 'FAM41C', 'SAMD11',\n",
            "       'NOC2L', 'KLHL17', 'PLEKHN1', 'HES4',\n",
            "       ...\n",
            "       'GPR4', 'SYNGR4', 'MAMSTR', 'SIGLEC6', 'TUBA8', 'IGLC4', 'SEPT3',\n",
            "       'Z83851.1', 'AL022476.1', 'AC233755.2'],\n",
            "      dtype='object', length=18780)\n",
            "(324, 18780)\n",
            "covert gene feature into 19264\n",
            "                               A1BG  A1CF  A2M  A2ML1  ...  ZYG11B  ZYX  ZZEF1  ZZZ3\n",
            "Cell_barcode                                           ...                          \n",
            "GSM5013821_AACCAACGTTTCGACA-1   0.0   0.0  0.0    0.0  ...     0.0  0.0    0.0   0.0\n",
            "GSM5013821_ACAAAGAGTGCGTCGT-1   0.0   0.0  0.0    0.0  ...     0.0  0.0    0.0   0.0\n",
            "GSM5013821_AGGTTACAGACTCATC-1   1.0   0.0  0.0    0.0  ...     0.0  1.0    0.0   0.0\n",
            "GSM5013821_CGCATGGCAAGAAACT-1   0.0   0.0  0.0    0.0  ...     0.0  0.0    0.0   0.0\n",
            "GSM5013821_CTGCCTATCAGCGCGT-1   0.0   0.0  0.0    0.0  ...     0.0  1.0    0.0   0.0\n",
            "...                             ...   ...  ...    ...  ...     ...  ...    ...   ...\n",
            "GSM5013826_TTGTTCAAGGGATCAC-1   0.0   0.0  0.0    0.0  ...     0.0  0.0    0.0   0.0\n",
            "GSM5013826_TTTCGATGTCTGATCA-1   1.0   0.0  0.0    0.0  ...     0.0  0.0    0.0   0.0\n",
            "GSM5013826_TTTCGATGTTTCGTGA-1   1.0   0.0  0.0    0.0  ...     0.0  0.0    0.0   0.0\n",
            "GSM5013826_TTTGACTGTATGAGGC-1   0.0   0.0  0.0    0.0  ...     0.0  0.0    0.0   0.0\n",
            "GSM5013826_TTTGTTGGTTGCAAGG-1   0.0   0.0  0.0    0.0  ...     1.0  0.0    0.0   0.0\n",
            "\n",
            "[324 rows x 19264 columns]\n",
            "(324, 19264)\n",
            "{'mask_gene_name': False, 'gene_num': 19266, 'seq_len': 19266, 'encoder': {'hidden_dim': 768, 'depth': 12, 'heads': 12, 'dim_head': 64, 'seq_len': 19266, 'module_type': 'transformer', 'norm_first': False}, 'decoder': {'hidden_dim': 512, 'depth': 6, 'heads': 8, 'dim_head': 64, 'module_type': 'performer', 'seq_len': 19266, 'norm_first': False}, 'n_class': 104, 'pad_token_id': 103, 'mask_token_id': 102, 'bin_num': 100, 'bin_alpha': 1.0, 'rawcount': True, 'model': 'mae_autobin', 'test_valid_train_idx_dict': '/nfs_beijing/minsheng/data/os10000w-new/global_shuffle/meta.csv.train_set_idx_dict.pt', 'valid_data_path': '/nfs_beijing/minsheng/data/valid_count_10w.npz', 'num_tokens': 13, 'train_data_path': None, 'isPanA': False, 'isPlanA1': False, 'max_files_to_load': 5, 'bin_type': 'auto_bin', 'value_mask_prob': 0.3, 'zero_mask_prob': 0.03, 'replace_prob': 0.8, 'random_token_prob': 0.1, 'mask_ignore_token_ids': [0], 'decoder_add_zero': True, 'mae_encoder_max_seq_len': 15000, 'isPlanA': False, 'mask_prob': 0.3, 'model_type': 'mae_autobin', 'pos_embed': False, 'device': 'cuda'}\n",
            "100% 324/324 [00:04<00:00, 68.85it/s]\n",
            "savedGSE164551_mal_countsMatrix.txt\n",
            "^C\n"
          ]
        }
      ]
    },
    {
      "cell_type": "code",
      "source": [
        "# 빈폴더 생성\n",
        "# /content/scDrugMap/scFoundation/embeds\n",
        "\n",
        "#"
      ],
      "metadata": {
        "id": "_N4UtDJHIsie"
      },
      "execution_count": null,
      "outputs": []
    },
    {
      "cell_type": "code",
      "source": [
        "!python /content/scDrugMap/get_ebd.py"
      ],
      "metadata": {
        "colab": {
          "base_uri": "https://localhost:8080/"
        },
        "id": "vYKi226QiV9R",
        "outputId": "f86f2652-a993-47da-8368-67a21b0fe19f"
      },
      "execution_count": null,
      "outputs": [
        {
          "output_type": "stream",
          "name": "stdout",
          "text": [
            "python3: can't open file '/content/scDrugMap/get_ebd.py': [Errno 2] No such file or directory\n"
          ]
        }
      ]
    },
    {
      "cell_type": "code",
      "source": [
        "!python benchmarking_main_EBD.py"
      ],
      "metadata": {
        "id": "5e8ox3OCiX3c"
      },
      "execution_count": null,
      "outputs": []
    },
    {
      "cell_type": "code",
      "source": [
        "!python benchmarking_main_FT.py"
      ],
      "metadata": {
        "id": "z_1JMn3YiagE"
      },
      "execution_count": null,
      "outputs": []
    }
  ],
  "metadata": {
    "accelerator": "GPU",
    "colab": {
      "gpuType": "T4",
      "provenance": [],
      "authorship_tag": "ABX9TyOydYA/F83uWlmZDdpBMl9J",
      "include_colab_link": true
    },
    "kernelspec": {
      "display_name": "Python 3",
      "name": "python3"
    },
    "language_info": {
      "name": "python"
    }
  },
  "nbformat": 4,
  "nbformat_minor": 0
}